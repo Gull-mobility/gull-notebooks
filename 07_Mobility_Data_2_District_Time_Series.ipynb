{
  "cells": [
    {
      "cell_type": "markdown",
      "source": [
        "# Guide\n",
        "In this notebook we try to train specific time series and after use Arima, as we will see later the models were not good because we don't have enough data in datasetB.\n",
        "\n",
        "The result with the RandomForest is good.\n",
        "\n",
        "\n",
        "# Preconfiguration\n",
        "To execute - First create a service account and save in Google Drive, after change next data"
      ],
      "metadata": {
        "id": "2IygtoVCCeO6"
      }
    },
    {
      "cell_type": "code",
      "source": [
        "#Modify after MyDrive providing folders and file name\n",
        "service_account_location = \"drive/MyDrive/Ideas/movilidad/vacio-276411-service_account_for_colab.json\""
      ],
      "metadata": {
        "id": "KoWHDDDPCfbk"
      },
      "execution_count": null,
      "outputs": []
    },
    {
      "cell_type": "markdown",
      "metadata": {
        "id": "oYCS0CSip9hq"
      },
      "source": [
        "#Imports"
      ]
    },
    {
      "cell_type": "code",
      "execution_count": null,
      "metadata": {
        "colab": {
          "base_uri": "https://localhost:8080/"
        },
        "id": "sv1fc7i2p2hz",
        "outputId": "851f3bb4-5045-4e6c-904b-0a63838e8636"
      },
      "outputs": [
        {
          "output_type": "stream",
          "name": "stdout",
          "text": [
            "Looking in indexes: https://pypi.org/simple, https://us-python.pkg.dev/colab-wheels/public/simple/\n",
            "Requirement already satisfied: rtree in /usr/local/lib/python3.7/dist-packages (1.0.0)\n",
            "Requirement already satisfied: typing-extensions>=3.7 in /usr/local/lib/python3.7/dist-packages (from rtree) (4.1.1)\n"
          ]
        }
      ],
      "source": [
        "pip install rtree"
      ]
    },
    {
      "cell_type": "code",
      "execution_count": null,
      "metadata": {
        "colab": {
          "base_uri": "https://localhost:8080/"
        },
        "id": "u9Uc2lgCp9Rz",
        "outputId": "22f328b4-2262-46d3-ebf8-d05571748d45"
      },
      "outputs": [
        {
          "output_type": "stream",
          "name": "stdout",
          "text": [
            "Looking in indexes: https://pypi.org/simple, https://us-python.pkg.dev/colab-wheels/public/simple/\n",
            "Requirement already satisfied: geopandas in /usr/local/lib/python3.7/dist-packages (0.10.2)\n",
            "Requirement already satisfied: fiona>=1.8 in /usr/local/lib/python3.7/dist-packages (from geopandas) (1.8.21)\n",
            "Requirement already satisfied: shapely>=1.6 in /usr/local/lib/python3.7/dist-packages (from geopandas) (1.8.4)\n",
            "Requirement already satisfied: pandas>=0.25.0 in /usr/local/lib/python3.7/dist-packages (from geopandas) (1.3.5)\n",
            "Requirement already satisfied: pyproj>=2.2.0 in /usr/local/lib/python3.7/dist-packages (from geopandas) (3.2.1)\n",
            "Requirement already satisfied: click>=4.0 in /usr/local/lib/python3.7/dist-packages (from fiona>=1.8->geopandas) (7.1.2)\n",
            "Requirement already satisfied: munch in /usr/local/lib/python3.7/dist-packages (from fiona>=1.8->geopandas) (2.5.0)\n",
            "Requirement already satisfied: attrs>=17 in /usr/local/lib/python3.7/dist-packages (from fiona>=1.8->geopandas) (22.1.0)\n",
            "Requirement already satisfied: click-plugins>=1.0 in /usr/local/lib/python3.7/dist-packages (from fiona>=1.8->geopandas) (1.1.1)\n",
            "Requirement already satisfied: cligj>=0.5 in /usr/local/lib/python3.7/dist-packages (from fiona>=1.8->geopandas) (0.7.2)\n",
            "Requirement already satisfied: setuptools in /usr/local/lib/python3.7/dist-packages (from fiona>=1.8->geopandas) (57.4.0)\n",
            "Requirement already satisfied: six>=1.7 in /usr/local/lib/python3.7/dist-packages (from fiona>=1.8->geopandas) (1.15.0)\n",
            "Requirement already satisfied: certifi in /usr/local/lib/python3.7/dist-packages (from fiona>=1.8->geopandas) (2022.6.15)\n",
            "Requirement already satisfied: numpy>=1.17.3 in /usr/local/lib/python3.7/dist-packages (from pandas>=0.25.0->geopandas) (1.21.6)\n",
            "Requirement already satisfied: python-dateutil>=2.7.3 in /usr/local/lib/python3.7/dist-packages (from pandas>=0.25.0->geopandas) (2.8.2)\n",
            "Requirement already satisfied: pytz>=2017.3 in /usr/local/lib/python3.7/dist-packages (from pandas>=0.25.0->geopandas) (2022.2.1)\n"
          ]
        }
      ],
      "source": [
        "pip install geopandas"
      ]
    },
    {
      "cell_type": "code",
      "execution_count": null,
      "metadata": {
        "colab": {
          "base_uri": "https://localhost:8080/"
        },
        "id": "YivGqmDCqCmh",
        "outputId": "146357ca-3297-4afa-f9eb-5c68faf40d8a"
      },
      "outputs": [
        {
          "output_type": "stream",
          "name": "stdout",
          "text": [
            "Mounted at /content/drive\n"
          ]
        }
      ],
      "source": [
        "#Pandas import\n",
        "import pandas as pd\n",
        "#Numpy import\n",
        "import numpy as np\n",
        "#Seaborn import\n",
        "import seaborn as sns\n",
        "#Geospatial imports\n",
        "import matplotlib.pyplot as plt\n",
        "import geopandas as gpd\n",
        "#Import KMZ\n",
        "import fiona\n",
        "#Forecast time series\n",
        "from sklearn.impute import SimpleImputer\n",
        "from sklearn.ensemble import RandomForestRegressor\n",
        "#Import for autocorrelation plots\n",
        "from statsmodels.graphics.tsaplots import plot_acf\n",
        "from statsmodels.graphics.tsaplots import plot_pacf\n",
        "#Import for arima model\n",
        "from statsmodels.tsa.arima_model import ARIMA\n",
        "#BIGQUERY IMPORTS\n",
        "from google.cloud import bigquery #For bigquerycredentials\n",
        "from google.oauth2 import service_account #For credentials\n",
        "\n",
        "\n",
        "##Mount access to Drive\n",
        "from google.colab import drive\n",
        "drive.mount('/content/drive',force_remount=True)\n",
        "\n",
        "#Set credentials as global\n",
        "import os\n",
        "os.environ[\"GOOGLE_APPLICATION_CREDENTIALS\"]= service_account_location\n",
        "\n",
        "# Construct a BigQuery client object.\n",
        "client = bigquery.Client()"
      ]
    },
    {
      "cell_type": "markdown",
      "metadata": {
        "id": "2i31o8vHqL67"
      },
      "source": [
        "# Get data"
      ]
    },
    {
      "cell_type": "code",
      "execution_count": null,
      "metadata": {
        "id": "8QA5bw56qLhm"
      },
      "outputs": [],
      "source": [
        "query = \"\"\"\n",
        "SELECT * FROM `vacio-276411.mainDataset.V2_trips_grouped_all_hours`\n",
        "\"\"\"\n",
        "df_tripsb_grouped = client.query(query).to_dataframe()"
      ]
    },
    {
      "cell_type": "code",
      "execution_count": null,
      "metadata": {
        "colab": {
          "base_uri": "https://localhost:8080/",
          "height": 424
        },
        "id": "XnCDPQ2eqTwc",
        "outputId": "109749f7-f5ce-4676-adba-217e98082f8a"
      },
      "outputs": [
        {
          "output_type": "execute_result",
          "data": {
            "text/plain": [
              "       district           dateandtime  trips\n",
              "0             1  2022-06-11T00:00:00z      0\n",
              "1             1  2022-06-11T01:00:00z      0\n",
              "2             1  2022-06-11T02:00:00z      0\n",
              "3             1  2022-06-11T03:00:00z      0\n",
              "4             1  2022-06-11T04:00:00z      0\n",
              "...         ...                   ...    ...\n",
              "27547        21  2022-08-31T19:00:00z      0\n",
              "27548        21  2022-08-31T20:00:00z      0\n",
              "27549        21  2022-08-31T21:00:00z      0\n",
              "27550        21  2022-08-31T22:00:00z      0\n",
              "27551        21  2022-08-31T23:00:00z      0\n",
              "\n",
              "[27552 rows x 3 columns]"
            ],
            "text/html": [
              "\n",
              "  <div id=\"df-69459411-ee43-44a2-817b-c07d55bf383c\">\n",
              "    <div class=\"colab-df-container\">\n",
              "      <div>\n",
              "<style scoped>\n",
              "    .dataframe tbody tr th:only-of-type {\n",
              "        vertical-align: middle;\n",
              "    }\n",
              "\n",
              "    .dataframe tbody tr th {\n",
              "        vertical-align: top;\n",
              "    }\n",
              "\n",
              "    .dataframe thead th {\n",
              "        text-align: right;\n",
              "    }\n",
              "</style>\n",
              "<table border=\"1\" class=\"dataframe\">\n",
              "  <thead>\n",
              "    <tr style=\"text-align: right;\">\n",
              "      <th></th>\n",
              "      <th>district</th>\n",
              "      <th>dateandtime</th>\n",
              "      <th>trips</th>\n",
              "    </tr>\n",
              "  </thead>\n",
              "  <tbody>\n",
              "    <tr>\n",
              "      <th>0</th>\n",
              "      <td>1</td>\n",
              "      <td>2022-06-11T00:00:00z</td>\n",
              "      <td>0</td>\n",
              "    </tr>\n",
              "    <tr>\n",
              "      <th>1</th>\n",
              "      <td>1</td>\n",
              "      <td>2022-06-11T01:00:00z</td>\n",
              "      <td>0</td>\n",
              "    </tr>\n",
              "    <tr>\n",
              "      <th>2</th>\n",
              "      <td>1</td>\n",
              "      <td>2022-06-11T02:00:00z</td>\n",
              "      <td>0</td>\n",
              "    </tr>\n",
              "    <tr>\n",
              "      <th>3</th>\n",
              "      <td>1</td>\n",
              "      <td>2022-06-11T03:00:00z</td>\n",
              "      <td>0</td>\n",
              "    </tr>\n",
              "    <tr>\n",
              "      <th>4</th>\n",
              "      <td>1</td>\n",
              "      <td>2022-06-11T04:00:00z</td>\n",
              "      <td>0</td>\n",
              "    </tr>\n",
              "    <tr>\n",
              "      <th>...</th>\n",
              "      <td>...</td>\n",
              "      <td>...</td>\n",
              "      <td>...</td>\n",
              "    </tr>\n",
              "    <tr>\n",
              "      <th>27547</th>\n",
              "      <td>21</td>\n",
              "      <td>2022-08-31T19:00:00z</td>\n",
              "      <td>0</td>\n",
              "    </tr>\n",
              "    <tr>\n",
              "      <th>27548</th>\n",
              "      <td>21</td>\n",
              "      <td>2022-08-31T20:00:00z</td>\n",
              "      <td>0</td>\n",
              "    </tr>\n",
              "    <tr>\n",
              "      <th>27549</th>\n",
              "      <td>21</td>\n",
              "      <td>2022-08-31T21:00:00z</td>\n",
              "      <td>0</td>\n",
              "    </tr>\n",
              "    <tr>\n",
              "      <th>27550</th>\n",
              "      <td>21</td>\n",
              "      <td>2022-08-31T22:00:00z</td>\n",
              "      <td>0</td>\n",
              "    </tr>\n",
              "    <tr>\n",
              "      <th>27551</th>\n",
              "      <td>21</td>\n",
              "      <td>2022-08-31T23:00:00z</td>\n",
              "      <td>0</td>\n",
              "    </tr>\n",
              "  </tbody>\n",
              "</table>\n",
              "<p>27552 rows × 3 columns</p>\n",
              "</div>\n",
              "      <button class=\"colab-df-convert\" onclick=\"convertToInteractive('df-69459411-ee43-44a2-817b-c07d55bf383c')\"\n",
              "              title=\"Convert this dataframe to an interactive table.\"\n",
              "              style=\"display:none;\">\n",
              "        \n",
              "  <svg xmlns=\"http://www.w3.org/2000/svg\" height=\"24px\"viewBox=\"0 0 24 24\"\n",
              "       width=\"24px\">\n",
              "    <path d=\"M0 0h24v24H0V0z\" fill=\"none\"/>\n",
              "    <path d=\"M18.56 5.44l.94 2.06.94-2.06 2.06-.94-2.06-.94-.94-2.06-.94 2.06-2.06.94zm-11 1L8.5 8.5l.94-2.06 2.06-.94-2.06-.94L8.5 2.5l-.94 2.06-2.06.94zm10 10l.94 2.06.94-2.06 2.06-.94-2.06-.94-.94-2.06-.94 2.06-2.06.94z\"/><path d=\"M17.41 7.96l-1.37-1.37c-.4-.4-.92-.59-1.43-.59-.52 0-1.04.2-1.43.59L10.3 9.45l-7.72 7.72c-.78.78-.78 2.05 0 2.83L4 21.41c.39.39.9.59 1.41.59.51 0 1.02-.2 1.41-.59l7.78-7.78 2.81-2.81c.8-.78.8-2.07 0-2.86zM5.41 20L4 18.59l7.72-7.72 1.47 1.35L5.41 20z\"/>\n",
              "  </svg>\n",
              "      </button>\n",
              "      \n",
              "  <style>\n",
              "    .colab-df-container {\n",
              "      display:flex;\n",
              "      flex-wrap:wrap;\n",
              "      gap: 12px;\n",
              "    }\n",
              "\n",
              "    .colab-df-convert {\n",
              "      background-color: #E8F0FE;\n",
              "      border: none;\n",
              "      border-radius: 50%;\n",
              "      cursor: pointer;\n",
              "      display: none;\n",
              "      fill: #1967D2;\n",
              "      height: 32px;\n",
              "      padding: 0 0 0 0;\n",
              "      width: 32px;\n",
              "    }\n",
              "\n",
              "    .colab-df-convert:hover {\n",
              "      background-color: #E2EBFA;\n",
              "      box-shadow: 0px 1px 2px rgba(60, 64, 67, 0.3), 0px 1px 3px 1px rgba(60, 64, 67, 0.15);\n",
              "      fill: #174EA6;\n",
              "    }\n",
              "\n",
              "    [theme=dark] .colab-df-convert {\n",
              "      background-color: #3B4455;\n",
              "      fill: #D2E3FC;\n",
              "    }\n",
              "\n",
              "    [theme=dark] .colab-df-convert:hover {\n",
              "      background-color: #434B5C;\n",
              "      box-shadow: 0px 1px 3px 1px rgba(0, 0, 0, 0.15);\n",
              "      filter: drop-shadow(0px 1px 2px rgba(0, 0, 0, 0.3));\n",
              "      fill: #FFFFFF;\n",
              "    }\n",
              "  </style>\n",
              "\n",
              "      <script>\n",
              "        const buttonEl =\n",
              "          document.querySelector('#df-69459411-ee43-44a2-817b-c07d55bf383c button.colab-df-convert');\n",
              "        buttonEl.style.display =\n",
              "          google.colab.kernel.accessAllowed ? 'block' : 'none';\n",
              "\n",
              "        async function convertToInteractive(key) {\n",
              "          const element = document.querySelector('#df-69459411-ee43-44a2-817b-c07d55bf383c');\n",
              "          const dataTable =\n",
              "            await google.colab.kernel.invokeFunction('convertToInteractive',\n",
              "                                                     [key], {});\n",
              "          if (!dataTable) return;\n",
              "\n",
              "          const docLinkHtml = 'Like what you see? Visit the ' +\n",
              "            '<a target=\"_blank\" href=https://colab.research.google.com/notebooks/data_table.ipynb>data table notebook</a>'\n",
              "            + ' to learn more about interactive tables.';\n",
              "          element.innerHTML = '';\n",
              "          dataTable['output_type'] = 'display_data';\n",
              "          await google.colab.output.renderOutput(dataTable, element);\n",
              "          const docLink = document.createElement('div');\n",
              "          docLink.innerHTML = docLinkHtml;\n",
              "          element.appendChild(docLink);\n",
              "        }\n",
              "      </script>\n",
              "    </div>\n",
              "  </div>\n",
              "  "
            ]
          },
          "metadata": {},
          "execution_count": 30
        }
      ],
      "source": [
        "df_tripsb_grouped"
      ]
    },
    {
      "cell_type": "code",
      "execution_count": null,
      "metadata": {
        "colab": {
          "base_uri": "https://localhost:8080/",
          "height": 424
        },
        "id": "Cxs0GKSurZp-",
        "outputId": "c9d4170c-7479-4e23-9d8d-2f57c9f549e5"
      },
      "outputs": [
        {
          "output_type": "execute_result",
          "data": {
            "text/plain": [
              "       district           dateandtime  trips\n",
              "0             1  2022-06-11T00:00:00z      0\n",
              "1             1  2022-06-11T01:00:00z      0\n",
              "2             1  2022-06-11T02:00:00z      0\n",
              "3             1  2022-06-11T03:00:00z      0\n",
              "4             1  2022-06-11T04:00:00z      0\n",
              "...         ...                   ...    ...\n",
              "27547        21  2022-08-31T19:00:00z      0\n",
              "27548        21  2022-08-31T20:00:00z      0\n",
              "27549        21  2022-08-31T21:00:00z      0\n",
              "27550        21  2022-08-31T22:00:00z      0\n",
              "27551        21  2022-08-31T23:00:00z      0\n",
              "\n",
              "[27552 rows x 3 columns]"
            ],
            "text/html": [
              "\n",
              "  <div id=\"df-26d9bb1f-cca5-47e3-8c2f-0f90bba3e967\">\n",
              "    <div class=\"colab-df-container\">\n",
              "      <div>\n",
              "<style scoped>\n",
              "    .dataframe tbody tr th:only-of-type {\n",
              "        vertical-align: middle;\n",
              "    }\n",
              "\n",
              "    .dataframe tbody tr th {\n",
              "        vertical-align: top;\n",
              "    }\n",
              "\n",
              "    .dataframe thead th {\n",
              "        text-align: right;\n",
              "    }\n",
              "</style>\n",
              "<table border=\"1\" class=\"dataframe\">\n",
              "  <thead>\n",
              "    <tr style=\"text-align: right;\">\n",
              "      <th></th>\n",
              "      <th>district</th>\n",
              "      <th>dateandtime</th>\n",
              "      <th>trips</th>\n",
              "    </tr>\n",
              "  </thead>\n",
              "  <tbody>\n",
              "    <tr>\n",
              "      <th>0</th>\n",
              "      <td>1</td>\n",
              "      <td>2022-06-11T00:00:00z</td>\n",
              "      <td>0</td>\n",
              "    </tr>\n",
              "    <tr>\n",
              "      <th>1</th>\n",
              "      <td>1</td>\n",
              "      <td>2022-06-11T01:00:00z</td>\n",
              "      <td>0</td>\n",
              "    </tr>\n",
              "    <tr>\n",
              "      <th>2</th>\n",
              "      <td>1</td>\n",
              "      <td>2022-06-11T02:00:00z</td>\n",
              "      <td>0</td>\n",
              "    </tr>\n",
              "    <tr>\n",
              "      <th>3</th>\n",
              "      <td>1</td>\n",
              "      <td>2022-06-11T03:00:00z</td>\n",
              "      <td>0</td>\n",
              "    </tr>\n",
              "    <tr>\n",
              "      <th>4</th>\n",
              "      <td>1</td>\n",
              "      <td>2022-06-11T04:00:00z</td>\n",
              "      <td>0</td>\n",
              "    </tr>\n",
              "    <tr>\n",
              "      <th>...</th>\n",
              "      <td>...</td>\n",
              "      <td>...</td>\n",
              "      <td>...</td>\n",
              "    </tr>\n",
              "    <tr>\n",
              "      <th>27547</th>\n",
              "      <td>21</td>\n",
              "      <td>2022-08-31T19:00:00z</td>\n",
              "      <td>0</td>\n",
              "    </tr>\n",
              "    <tr>\n",
              "      <th>27548</th>\n",
              "      <td>21</td>\n",
              "      <td>2022-08-31T20:00:00z</td>\n",
              "      <td>0</td>\n",
              "    </tr>\n",
              "    <tr>\n",
              "      <th>27549</th>\n",
              "      <td>21</td>\n",
              "      <td>2022-08-31T21:00:00z</td>\n",
              "      <td>0</td>\n",
              "    </tr>\n",
              "    <tr>\n",
              "      <th>27550</th>\n",
              "      <td>21</td>\n",
              "      <td>2022-08-31T22:00:00z</td>\n",
              "      <td>0</td>\n",
              "    </tr>\n",
              "    <tr>\n",
              "      <th>27551</th>\n",
              "      <td>21</td>\n",
              "      <td>2022-08-31T23:00:00z</td>\n",
              "      <td>0</td>\n",
              "    </tr>\n",
              "  </tbody>\n",
              "</table>\n",
              "<p>27552 rows × 3 columns</p>\n",
              "</div>\n",
              "      <button class=\"colab-df-convert\" onclick=\"convertToInteractive('df-26d9bb1f-cca5-47e3-8c2f-0f90bba3e967')\"\n",
              "              title=\"Convert this dataframe to an interactive table.\"\n",
              "              style=\"display:none;\">\n",
              "        \n",
              "  <svg xmlns=\"http://www.w3.org/2000/svg\" height=\"24px\"viewBox=\"0 0 24 24\"\n",
              "       width=\"24px\">\n",
              "    <path d=\"M0 0h24v24H0V0z\" fill=\"none\"/>\n",
              "    <path d=\"M18.56 5.44l.94 2.06.94-2.06 2.06-.94-2.06-.94-.94-2.06-.94 2.06-2.06.94zm-11 1L8.5 8.5l.94-2.06 2.06-.94-2.06-.94L8.5 2.5l-.94 2.06-2.06.94zm10 10l.94 2.06.94-2.06 2.06-.94-2.06-.94-.94-2.06-.94 2.06-2.06.94z\"/><path d=\"M17.41 7.96l-1.37-1.37c-.4-.4-.92-.59-1.43-.59-.52 0-1.04.2-1.43.59L10.3 9.45l-7.72 7.72c-.78.78-.78 2.05 0 2.83L4 21.41c.39.39.9.59 1.41.59.51 0 1.02-.2 1.41-.59l7.78-7.78 2.81-2.81c.8-.78.8-2.07 0-2.86zM5.41 20L4 18.59l7.72-7.72 1.47 1.35L5.41 20z\"/>\n",
              "  </svg>\n",
              "      </button>\n",
              "      \n",
              "  <style>\n",
              "    .colab-df-container {\n",
              "      display:flex;\n",
              "      flex-wrap:wrap;\n",
              "      gap: 12px;\n",
              "    }\n",
              "\n",
              "    .colab-df-convert {\n",
              "      background-color: #E8F0FE;\n",
              "      border: none;\n",
              "      border-radius: 50%;\n",
              "      cursor: pointer;\n",
              "      display: none;\n",
              "      fill: #1967D2;\n",
              "      height: 32px;\n",
              "      padding: 0 0 0 0;\n",
              "      width: 32px;\n",
              "    }\n",
              "\n",
              "    .colab-df-convert:hover {\n",
              "      background-color: #E2EBFA;\n",
              "      box-shadow: 0px 1px 2px rgba(60, 64, 67, 0.3), 0px 1px 3px 1px rgba(60, 64, 67, 0.15);\n",
              "      fill: #174EA6;\n",
              "    }\n",
              "\n",
              "    [theme=dark] .colab-df-convert {\n",
              "      background-color: #3B4455;\n",
              "      fill: #D2E3FC;\n",
              "    }\n",
              "\n",
              "    [theme=dark] .colab-df-convert:hover {\n",
              "      background-color: #434B5C;\n",
              "      box-shadow: 0px 1px 3px 1px rgba(0, 0, 0, 0.15);\n",
              "      filter: drop-shadow(0px 1px 2px rgba(0, 0, 0, 0.3));\n",
              "      fill: #FFFFFF;\n",
              "    }\n",
              "  </style>\n",
              "\n",
              "      <script>\n",
              "        const buttonEl =\n",
              "          document.querySelector('#df-26d9bb1f-cca5-47e3-8c2f-0f90bba3e967 button.colab-df-convert');\n",
              "        buttonEl.style.display =\n",
              "          google.colab.kernel.accessAllowed ? 'block' : 'none';\n",
              "\n",
              "        async function convertToInteractive(key) {\n",
              "          const element = document.querySelector('#df-26d9bb1f-cca5-47e3-8c2f-0f90bba3e967');\n",
              "          const dataTable =\n",
              "            await google.colab.kernel.invokeFunction('convertToInteractive',\n",
              "                                                     [key], {});\n",
              "          if (!dataTable) return;\n",
              "\n",
              "          const docLinkHtml = 'Like what you see? Visit the ' +\n",
              "            '<a target=\"_blank\" href=https://colab.research.google.com/notebooks/data_table.ipynb>data table notebook</a>'\n",
              "            + ' to learn more about interactive tables.';\n",
              "          element.innerHTML = '';\n",
              "          dataTable['output_type'] = 'display_data';\n",
              "          await google.colab.output.renderOutput(dataTable, element);\n",
              "          const docLink = document.createElement('div');\n",
              "          docLink.innerHTML = docLinkHtml;\n",
              "          element.appendChild(docLink);\n",
              "        }\n",
              "      </script>\n",
              "    </div>\n",
              "  </div>\n",
              "  "
            ]
          },
          "metadata": {},
          "execution_count": 31
        }
      ],
      "source": [
        "df_tripsb_grouped.reset_index(drop=True)"
      ]
    },
    {
      "cell_type": "markdown",
      "metadata": {
        "id": "dPlSfoFRq7-u"
      },
      "source": [
        "# Timeseries"
      ]
    },
    {
      "cell_type": "markdown",
      "metadata": {
        "id": "Ze-oNYevq-Bt"
      },
      "source": [
        "Create lag"
      ]
    },
    {
      "cell_type": "code",
      "execution_count": null,
      "metadata": {
        "colab": {
          "base_uri": "https://localhost:8080/",
          "height": 424
        },
        "id": "UT2p9Lp1q7Jz",
        "outputId": "5ef3e27c-bba4-4bd3-ff19-96b3798157fb"
      },
      "outputs": [
        {
          "output_type": "execute_result",
          "data": {
            "text/plain": [
              "     district           dateandtime  trips  trips_lag_28_days  \\\n",
              "0           1  2022-06-11T00:00:00z      0                NaN   \n",
              "1           1  2022-06-11T01:00:00z      0                NaN   \n",
              "2           1  2022-06-11T02:00:00z      0                NaN   \n",
              "3           1  2022-06-11T03:00:00z      0                NaN   \n",
              "4           1  2022-06-11T04:00:00z      0                NaN   \n",
              "..        ...                   ...    ...                ...   \n",
              "295         1  2022-06-23T07:00:00z      1                NaN   \n",
              "296         1  2022-06-23T08:00:00z      0                NaN   \n",
              "297         1  2022-06-23T09:00:00z      1                NaN   \n",
              "298         1  2022-06-23T10:00:00z      2                NaN   \n",
              "299         1  2022-06-23T11:00:00z      0                NaN   \n",
              "\n",
              "     trips_lag_14_days  trips_lag_7_days  trips_lag_1_days  trips_lag_2_days  \\\n",
              "0                  NaN               NaN               NaN               NaN   \n",
              "1                  NaN               NaN               NaN               NaN   \n",
              "2                  NaN               NaN               NaN               NaN   \n",
              "3                  NaN               NaN               NaN               NaN   \n",
              "4                  NaN               NaN               NaN               NaN   \n",
              "..                 ...               ...               ...               ...   \n",
              "295                NaN               1.0               0.0               4.0   \n",
              "296                NaN               2.0               1.0               1.0   \n",
              "297                NaN               1.0               2.0               0.0   \n",
              "298                NaN               3.0               1.0               2.0   \n",
              "299                NaN               5.0               1.0               0.0   \n",
              "\n",
              "     trips_lag_1_hours  trips_lag_2_hours  \n",
              "0                  NaN                NaN  \n",
              "1                  0.0                0.0  \n",
              "2                  0.0                0.0  \n",
              "3                  0.0                0.0  \n",
              "4                  0.0                0.0  \n",
              "..                 ...                ...  \n",
              "295                0.0                0.0  \n",
              "296                1.0                1.0  \n",
              "297                0.0                0.0  \n",
              "298                1.0                1.0  \n",
              "299                2.0                2.0  \n",
              "\n",
              "[300 rows x 10 columns]"
            ],
            "text/html": [
              "\n",
              "  <div id=\"df-630f74d4-002c-4dd3-81c4-317296749eb3\">\n",
              "    <div class=\"colab-df-container\">\n",
              "      <div>\n",
              "<style scoped>\n",
              "    .dataframe tbody tr th:only-of-type {\n",
              "        vertical-align: middle;\n",
              "    }\n",
              "\n",
              "    .dataframe tbody tr th {\n",
              "        vertical-align: top;\n",
              "    }\n",
              "\n",
              "    .dataframe thead th {\n",
              "        text-align: right;\n",
              "    }\n",
              "</style>\n",
              "<table border=\"1\" class=\"dataframe\">\n",
              "  <thead>\n",
              "    <tr style=\"text-align: right;\">\n",
              "      <th></th>\n",
              "      <th>district</th>\n",
              "      <th>dateandtime</th>\n",
              "      <th>trips</th>\n",
              "      <th>trips_lag_28_days</th>\n",
              "      <th>trips_lag_14_days</th>\n",
              "      <th>trips_lag_7_days</th>\n",
              "      <th>trips_lag_1_days</th>\n",
              "      <th>trips_lag_2_days</th>\n",
              "      <th>trips_lag_1_hours</th>\n",
              "      <th>trips_lag_2_hours</th>\n",
              "    </tr>\n",
              "  </thead>\n",
              "  <tbody>\n",
              "    <tr>\n",
              "      <th>0</th>\n",
              "      <td>1</td>\n",
              "      <td>2022-06-11T00:00:00z</td>\n",
              "      <td>0</td>\n",
              "      <td>NaN</td>\n",
              "      <td>NaN</td>\n",
              "      <td>NaN</td>\n",
              "      <td>NaN</td>\n",
              "      <td>NaN</td>\n",
              "      <td>NaN</td>\n",
              "      <td>NaN</td>\n",
              "    </tr>\n",
              "    <tr>\n",
              "      <th>1</th>\n",
              "      <td>1</td>\n",
              "      <td>2022-06-11T01:00:00z</td>\n",
              "      <td>0</td>\n",
              "      <td>NaN</td>\n",
              "      <td>NaN</td>\n",
              "      <td>NaN</td>\n",
              "      <td>NaN</td>\n",
              "      <td>NaN</td>\n",
              "      <td>0.0</td>\n",
              "      <td>0.0</td>\n",
              "    </tr>\n",
              "    <tr>\n",
              "      <th>2</th>\n",
              "      <td>1</td>\n",
              "      <td>2022-06-11T02:00:00z</td>\n",
              "      <td>0</td>\n",
              "      <td>NaN</td>\n",
              "      <td>NaN</td>\n",
              "      <td>NaN</td>\n",
              "      <td>NaN</td>\n",
              "      <td>NaN</td>\n",
              "      <td>0.0</td>\n",
              "      <td>0.0</td>\n",
              "    </tr>\n",
              "    <tr>\n",
              "      <th>3</th>\n",
              "      <td>1</td>\n",
              "      <td>2022-06-11T03:00:00z</td>\n",
              "      <td>0</td>\n",
              "      <td>NaN</td>\n",
              "      <td>NaN</td>\n",
              "      <td>NaN</td>\n",
              "      <td>NaN</td>\n",
              "      <td>NaN</td>\n",
              "      <td>0.0</td>\n",
              "      <td>0.0</td>\n",
              "    </tr>\n",
              "    <tr>\n",
              "      <th>4</th>\n",
              "      <td>1</td>\n",
              "      <td>2022-06-11T04:00:00z</td>\n",
              "      <td>0</td>\n",
              "      <td>NaN</td>\n",
              "      <td>NaN</td>\n",
              "      <td>NaN</td>\n",
              "      <td>NaN</td>\n",
              "      <td>NaN</td>\n",
              "      <td>0.0</td>\n",
              "      <td>0.0</td>\n",
              "    </tr>\n",
              "    <tr>\n",
              "      <th>...</th>\n",
              "      <td>...</td>\n",
              "      <td>...</td>\n",
              "      <td>...</td>\n",
              "      <td>...</td>\n",
              "      <td>...</td>\n",
              "      <td>...</td>\n",
              "      <td>...</td>\n",
              "      <td>...</td>\n",
              "      <td>...</td>\n",
              "      <td>...</td>\n",
              "    </tr>\n",
              "    <tr>\n",
              "      <th>295</th>\n",
              "      <td>1</td>\n",
              "      <td>2022-06-23T07:00:00z</td>\n",
              "      <td>1</td>\n",
              "      <td>NaN</td>\n",
              "      <td>NaN</td>\n",
              "      <td>1.0</td>\n",
              "      <td>0.0</td>\n",
              "      <td>4.0</td>\n",
              "      <td>0.0</td>\n",
              "      <td>0.0</td>\n",
              "    </tr>\n",
              "    <tr>\n",
              "      <th>296</th>\n",
              "      <td>1</td>\n",
              "      <td>2022-06-23T08:00:00z</td>\n",
              "      <td>0</td>\n",
              "      <td>NaN</td>\n",
              "      <td>NaN</td>\n",
              "      <td>2.0</td>\n",
              "      <td>1.0</td>\n",
              "      <td>1.0</td>\n",
              "      <td>1.0</td>\n",
              "      <td>1.0</td>\n",
              "    </tr>\n",
              "    <tr>\n",
              "      <th>297</th>\n",
              "      <td>1</td>\n",
              "      <td>2022-06-23T09:00:00z</td>\n",
              "      <td>1</td>\n",
              "      <td>NaN</td>\n",
              "      <td>NaN</td>\n",
              "      <td>1.0</td>\n",
              "      <td>2.0</td>\n",
              "      <td>0.0</td>\n",
              "      <td>0.0</td>\n",
              "      <td>0.0</td>\n",
              "    </tr>\n",
              "    <tr>\n",
              "      <th>298</th>\n",
              "      <td>1</td>\n",
              "      <td>2022-06-23T10:00:00z</td>\n",
              "      <td>2</td>\n",
              "      <td>NaN</td>\n",
              "      <td>NaN</td>\n",
              "      <td>3.0</td>\n",
              "      <td>1.0</td>\n",
              "      <td>2.0</td>\n",
              "      <td>1.0</td>\n",
              "      <td>1.0</td>\n",
              "    </tr>\n",
              "    <tr>\n",
              "      <th>299</th>\n",
              "      <td>1</td>\n",
              "      <td>2022-06-23T11:00:00z</td>\n",
              "      <td>0</td>\n",
              "      <td>NaN</td>\n",
              "      <td>NaN</td>\n",
              "      <td>5.0</td>\n",
              "      <td>1.0</td>\n",
              "      <td>0.0</td>\n",
              "      <td>2.0</td>\n",
              "      <td>2.0</td>\n",
              "    </tr>\n",
              "  </tbody>\n",
              "</table>\n",
              "<p>300 rows × 10 columns</p>\n",
              "</div>\n",
              "      <button class=\"colab-df-convert\" onclick=\"convertToInteractive('df-630f74d4-002c-4dd3-81c4-317296749eb3')\"\n",
              "              title=\"Convert this dataframe to an interactive table.\"\n",
              "              style=\"display:none;\">\n",
              "        \n",
              "  <svg xmlns=\"http://www.w3.org/2000/svg\" height=\"24px\"viewBox=\"0 0 24 24\"\n",
              "       width=\"24px\">\n",
              "    <path d=\"M0 0h24v24H0V0z\" fill=\"none\"/>\n",
              "    <path d=\"M18.56 5.44l.94 2.06.94-2.06 2.06-.94-2.06-.94-.94-2.06-.94 2.06-2.06.94zm-11 1L8.5 8.5l.94-2.06 2.06-.94-2.06-.94L8.5 2.5l-.94 2.06-2.06.94zm10 10l.94 2.06.94-2.06 2.06-.94-2.06-.94-.94-2.06-.94 2.06-2.06.94z\"/><path d=\"M17.41 7.96l-1.37-1.37c-.4-.4-.92-.59-1.43-.59-.52 0-1.04.2-1.43.59L10.3 9.45l-7.72 7.72c-.78.78-.78 2.05 0 2.83L4 21.41c.39.39.9.59 1.41.59.51 0 1.02-.2 1.41-.59l7.78-7.78 2.81-2.81c.8-.78.8-2.07 0-2.86zM5.41 20L4 18.59l7.72-7.72 1.47 1.35L5.41 20z\"/>\n",
              "  </svg>\n",
              "      </button>\n",
              "      \n",
              "  <style>\n",
              "    .colab-df-container {\n",
              "      display:flex;\n",
              "      flex-wrap:wrap;\n",
              "      gap: 12px;\n",
              "    }\n",
              "\n",
              "    .colab-df-convert {\n",
              "      background-color: #E8F0FE;\n",
              "      border: none;\n",
              "      border-radius: 50%;\n",
              "      cursor: pointer;\n",
              "      display: none;\n",
              "      fill: #1967D2;\n",
              "      height: 32px;\n",
              "      padding: 0 0 0 0;\n",
              "      width: 32px;\n",
              "    }\n",
              "\n",
              "    .colab-df-convert:hover {\n",
              "      background-color: #E2EBFA;\n",
              "      box-shadow: 0px 1px 2px rgba(60, 64, 67, 0.3), 0px 1px 3px 1px rgba(60, 64, 67, 0.15);\n",
              "      fill: #174EA6;\n",
              "    }\n",
              "\n",
              "    [theme=dark] .colab-df-convert {\n",
              "      background-color: #3B4455;\n",
              "      fill: #D2E3FC;\n",
              "    }\n",
              "\n",
              "    [theme=dark] .colab-df-convert:hover {\n",
              "      background-color: #434B5C;\n",
              "      box-shadow: 0px 1px 3px 1px rgba(0, 0, 0, 0.15);\n",
              "      filter: drop-shadow(0px 1px 2px rgba(0, 0, 0, 0.3));\n",
              "      fill: #FFFFFF;\n",
              "    }\n",
              "  </style>\n",
              "\n",
              "      <script>\n",
              "        const buttonEl =\n",
              "          document.querySelector('#df-630f74d4-002c-4dd3-81c4-317296749eb3 button.colab-df-convert');\n",
              "        buttonEl.style.display =\n",
              "          google.colab.kernel.accessAllowed ? 'block' : 'none';\n",
              "\n",
              "        async function convertToInteractive(key) {\n",
              "          const element = document.querySelector('#df-630f74d4-002c-4dd3-81c4-317296749eb3');\n",
              "          const dataTable =\n",
              "            await google.colab.kernel.invokeFunction('convertToInteractive',\n",
              "                                                     [key], {});\n",
              "          if (!dataTable) return;\n",
              "\n",
              "          const docLinkHtml = 'Like what you see? Visit the ' +\n",
              "            '<a target=\"_blank\" href=https://colab.research.google.com/notebooks/data_table.ipynb>data table notebook</a>'\n",
              "            + ' to learn more about interactive tables.';\n",
              "          element.innerHTML = '';\n",
              "          dataTable['output_type'] = 'display_data';\n",
              "          await google.colab.output.renderOutput(dataTable, element);\n",
              "          const docLink = document.createElement('div');\n",
              "          docLink.innerHTML = docLinkHtml;\n",
              "          element.appendChild(docLink);\n",
              "        }\n",
              "      </script>\n",
              "    </div>\n",
              "  </div>\n",
              "  "
            ]
          },
          "metadata": {},
          "execution_count": 34
        }
      ],
      "source": [
        "#Shift method to create the lag variables\n",
        "df_tripsb_grouped['trips_lag_28_days'] = df_tripsb_grouped['trips'].shift(28*24) #28 days before same hour\n",
        "df_tripsb_grouped['trips_lag_14_days'] = df_tripsb_grouped['trips'].shift(14*24) #14 days before same hour\n",
        "df_tripsb_grouped['trips_lag_7_days'] = df_tripsb_grouped['trips'].shift(7*24) #7 days before same hour\n",
        "df_tripsb_grouped['trips_lag_1_days'] = df_tripsb_grouped['trips'].shift(1*24) # 1 day before same hour\n",
        "df_tripsb_grouped['trips_lag_2_days'] = df_tripsb_grouped['trips'].shift(2*24) # 2 days before same hour\n",
        "df_tripsb_grouped['trips_lag_1_hours'] = df_tripsb_grouped['trips'].shift(1) # 1 hour before\n",
        "df_tripsb_grouped['trips_lag_2_hours'] = df_tripsb_grouped['trips'].shift(1) # 2 hours before\n",
        "df_tripsb_grouped.head(300)"
      ]
    },
    {
      "cell_type": "markdown",
      "metadata": {
        "id": "f6kfuCecrI8o"
      },
      "source": [
        "Analyze the correlation"
      ]
    },
    {
      "cell_type": "code",
      "execution_count": null,
      "metadata": {
        "colab": {
          "base_uri": "https://localhost:8080/",
          "height": 403
        },
        "id": "nlsfUcSerH5q",
        "outputId": "d15ceb04-3ce3-41e8-f517-c085c4878932"
      },
      "outputs": [
        {
          "output_type": "display_data",
          "data": {
            "text/plain": [
              "<Figure size 720x360 with 2 Axes>"
            ],
            "image/png": "[encoded data removed]"
          },
          "metadata": {
            "needs_background": "light"
          }
        }
      ],
      "source": [
        "corr_matrix = df_tripsb_grouped.corr()\n",
        "fig = plt.figure(figsize=(10, 5))\n",
        "\n",
        "mask = np.array(corr_matrix)\n",
        "mask[np.tril_indices_from(mask)] = False\n",
        "\n",
        "sns.heatmap(corr_matrix, mask = mask, annot=True, cbar=True,cmap=\"Blues\")\n",
        "plt.show()"
      ]
    },
    {
      "cell_type": "markdown",
      "metadata": {
        "id": "UWeV9Mf4sQa8"
      },
      "source": [
        "Evaluation metric"
      ]
    },
    {
      "cell_type": "code",
      "execution_count": null,
      "metadata": {
        "id": "kOZ1Nn_ssReP"
      },
      "outputs": [],
      "source": [
        "def mape(y_true, y_pred):\n",
        "    ape = np.abs((y_true - y_pred) / y_true)\n",
        "    #ape[~np.isfinite(ape)] = 0. # VERY questionable\n",
        "    ape[~np.isfinite(ape)] = 1. # pessimist estimate\n",
        "    return np.mean(ape)\n",
        "\n",
        "def wmape(y_true, y_pred):\n",
        "    return np.sum(np.abs(y_true - y_pred)) / np.sum(np.abs(y_true))"
      ]
    },
    {
      "cell_type": "markdown",
      "metadata": {
        "id": "FE1_Su3QsTS-"
      },
      "source": [
        "Baseline"
      ]
    },
    {
      "cell_type": "code",
      "execution_count": null,
      "metadata": {
        "id": "P1qoWFQ0sUP-"
      },
      "outputs": [],
      "source": [
        "y_pred = df_tripsb_grouped['trips']\n",
        "y_true = df_tripsb_grouped['trips_lag_1_hours']"
      ]
    },
    {
      "cell_type": "code",
      "execution_count": null,
      "metadata": {
        "colab": {
          "base_uri": "https://localhost:8080/",
          "height": 81
        },
        "id": "hlvQnexqsxqf",
        "outputId": "809c1803-456b-4f1d-96a1-bd36ea6ef9fd"
      },
      "outputs": [
        {
          "output_type": "execute_result",
          "data": {
            "text/plain": [
              "     Method      MAPE     WMAPE\n",
              "0  Baseline  0.840448  0.577074"
            ],
            "text/html": [
              "\n",
              "  <div id=\"df-1777fcd7-8725-4486-9fca-849a28e633ed\">\n",
              "    <div class=\"colab-df-container\">\n",
              "      <div>\n",
              "<style scoped>\n",
              "    .dataframe tbody tr th:only-of-type {\n",
              "        vertical-align: middle;\n",
              "    }\n",
              "\n",
              "    .dataframe tbody tr th {\n",
              "        vertical-align: top;\n",
              "    }\n",
              "\n",
              "    .dataframe thead th {\n",
              "        text-align: right;\n",
              "    }\n",
              "</style>\n",
              "<table border=\"1\" class=\"dataframe\">\n",
              "  <thead>\n",
              "    <tr style=\"text-align: right;\">\n",
              "      <th></th>\n",
              "      <th>Method</th>\n",
              "      <th>MAPE</th>\n",
              "      <th>WMAPE</th>\n",
              "    </tr>\n",
              "  </thead>\n",
              "  <tbody>\n",
              "    <tr>\n",
              "      <th>0</th>\n",
              "      <td>Baseline</td>\n",
              "      <td>0.840448</td>\n",
              "      <td>0.577074</td>\n",
              "    </tr>\n",
              "  </tbody>\n",
              "</table>\n",
              "</div>\n",
              "      <button class=\"colab-df-convert\" onclick=\"convertToInteractive('df-1777fcd7-8725-4486-9fca-849a28e633ed')\"\n",
              "              title=\"Convert this dataframe to an interactive table.\"\n",
              "              style=\"display:none;\">\n",
              "        \n",
              "  <svg xmlns=\"http://www.w3.org/2000/svg\" height=\"24px\"viewBox=\"0 0 24 24\"\n",
              "       width=\"24px\">\n",
              "    <path d=\"M0 0h24v24H0V0z\" fill=\"none\"/>\n",
              "    <path d=\"M18.56 5.44l.94 2.06.94-2.06 2.06-.94-2.06-.94-.94-2.06-.94 2.06-2.06.94zm-11 1L8.5 8.5l.94-2.06 2.06-.94-2.06-.94L8.5 2.5l-.94 2.06-2.06.94zm10 10l.94 2.06.94-2.06 2.06-.94-2.06-.94-.94-2.06-.94 2.06-2.06.94z\"/><path d=\"M17.41 7.96l-1.37-1.37c-.4-.4-.92-.59-1.43-.59-.52 0-1.04.2-1.43.59L10.3 9.45l-7.72 7.72c-.78.78-.78 2.05 0 2.83L4 21.41c.39.39.9.59 1.41.59.51 0 1.02-.2 1.41-.59l7.78-7.78 2.81-2.81c.8-.78.8-2.07 0-2.86zM5.41 20L4 18.59l7.72-7.72 1.47 1.35L5.41 20z\"/>\n",
              "  </svg>\n",
              "      </button>\n",
              "      \n",
              "  <style>\n",
              "    .colab-df-container {\n",
              "      display:flex;\n",
              "      flex-wrap:wrap;\n",
              "      gap: 12px;\n",
              "    }\n",
              "\n",
              "    .colab-df-convert {\n",
              "      background-color: #E8F0FE;\n",
              "      border: none;\n",
              "      border-radius: 50%;\n",
              "      cursor: pointer;\n",
              "      display: none;\n",
              "      fill: #1967D2;\n",
              "      height: 32px;\n",
              "      padding: 0 0 0 0;\n",
              "      width: 32px;\n",
              "    }\n",
              "\n",
              "    .colab-df-convert:hover {\n",
              "      background-color: #E2EBFA;\n",
              "      box-shadow: 0px 1px 2px rgba(60, 64, 67, 0.3), 0px 1px 3px 1px rgba(60, 64, 67, 0.15);\n",
              "      fill: #174EA6;\n",
              "    }\n",
              "\n",
              "    [theme=dark] .colab-df-convert {\n",
              "      background-color: #3B4455;\n",
              "      fill: #D2E3FC;\n",
              "    }\n",
              "\n",
              "    [theme=dark] .colab-df-convert:hover {\n",
              "      background-color: #434B5C;\n",
              "      box-shadow: 0px 1px 3px 1px rgba(0, 0, 0, 0.15);\n",
              "      filter: drop-shadow(0px 1px 2px rgba(0, 0, 0, 0.3));\n",
              "      fill: #FFFFFF;\n",
              "    }\n",
              "  </style>\n",
              "\n",
              "      <script>\n",
              "        const buttonEl =\n",
              "          document.querySelector('#df-1777fcd7-8725-4486-9fca-849a28e633ed button.colab-df-convert');\n",
              "        buttonEl.style.display =\n",
              "          google.colab.kernel.accessAllowed ? 'block' : 'none';\n",
              "\n",
              "        async function convertToInteractive(key) {\n",
              "          const element = document.querySelector('#df-1777fcd7-8725-4486-9fca-849a28e633ed');\n",
              "          const dataTable =\n",
              "            await google.colab.kernel.invokeFunction('convertToInteractive',\n",
              "                                                     [key], {});\n",
              "          if (!dataTable) return;\n",
              "\n",
              "          const docLinkHtml = 'Like what you see? Visit the ' +\n",
              "            '<a target=\"_blank\" href=https://colab.research.google.com/notebooks/data_table.ipynb>data table notebook</a>'\n",
              "            + ' to learn more about interactive tables.';\n",
              "          element.innerHTML = '';\n",
              "          dataTable['output_type'] = 'display_data';\n",
              "          await google.colab.output.renderOutput(dataTable, element);\n",
              "          const docLink = document.createElement('div');\n",
              "          docLink.innerHTML = docLinkHtml;\n",
              "          element.appendChild(docLink);\n",
              "        }\n",
              "      </script>\n",
              "    </div>\n",
              "  </div>\n",
              "  "
            ]
          },
          "metadata": {},
          "execution_count": 38
        }
      ],
      "source": [
        "result_1 = {'Method':['Baseline'],'MAPE':[mape(y_true, y_pred)],'WMAPE':[wmape(y_true, y_pred)]}\n",
        "df_results = pd.DataFrame(result_1)\n",
        "df_results"
      ]
    },
    {
      "cell_type": "markdown",
      "metadata": {
        "id": "MO3BQa0-uFXy"
      },
      "source": [
        "Spit data"
      ]
    },
    {
      "cell_type": "code",
      "execution_count": null,
      "metadata": {
        "id": "uDLagz4SuGuw"
      },
      "outputs": [],
      "source": [
        "#Split data\n",
        "#TODO: Without change this date in the future the test list will be bigger than now\n",
        "#split_point = 40\n",
        "split_point = '2022-08-01'\n",
        "filter_train = df_tripsb_grouped['dateandtime'] < split_point\n",
        "filter_valid = df_tripsb_grouped['dateandtime'] >= split_point\n",
        "\n",
        "df_all_hours_data_train = df_tripsb_grouped[ filter_train].copy()\n",
        "df_all_hours_data_valid = df_tripsb_grouped[ filter_valid ].copy()"
      ]
    },
    {
      "cell_type": "markdown",
      "metadata": {
        "id": "ilLKteZntTzp"
      },
      "source": [
        "Train model"
      ]
    },
    {
      "cell_type": "code",
      "execution_count": null,
      "metadata": {
        "colab": {
          "base_uri": "https://localhost:8080/"
        },
        "id": "iYMbuYZWtZBP",
        "outputId": "7c012872-79b1-46d5-8c29-d7b6fca4e520"
      },
      "outputs": [
        {
          "output_type": "execute_result",
          "data": {
            "text/plain": [
              "RandomForestRegressor(n_jobs=6, random_state=0)"
            ]
          },
          "metadata": {},
          "execution_count": 41
        }
      ],
      "source": [
        "features= ['trips_lag_28_days',\t'trips_lag_14_days',\t'trips_lag_7_days',\t'trips_lag_1_days',\t'trips_lag_2_days',\t'trips_lag_1_hours',\t'trips_lag_2_hours']\n",
        "\n",
        "imputer = SimpleImputer()\n",
        "Xtr = imputer.fit_transform(df_all_hours_data_train[features])\n",
        "ytr = df_all_hours_data_train['trips']\n",
        "\n",
        "mdl = RandomForestRegressor(n_estimators=100, random_state=0, n_jobs=6)\n",
        "mdl.fit(Xtr, ytr)"
      ]
    },
    {
      "cell_type": "markdown",
      "metadata": {
        "id": "0mFSvT45ubne"
      },
      "source": [
        "Evaluate model"
      ]
    },
    {
      "cell_type": "code",
      "execution_count": null,
      "metadata": {
        "id": "bSNU7M1uua96"
      },
      "outputs": [],
      "source": [
        "Xval = imputer.transform(df_all_hours_data_valid[features])\n",
        "yval = df_all_hours_data_valid['trips']\n",
        "\n",
        "p = mdl.predict(Xval)"
      ]
    },
    {
      "cell_type": "code",
      "execution_count": null,
      "metadata": {
        "colab": {
          "base_uri": "https://localhost:8080/"
        },
        "id": "ISQ0S9DWvYpP",
        "outputId": "67642638-977a-427c-fd5f-24f3e6676330"
      },
      "outputs": [
        {
          "output_type": "execute_result",
          "data": {
            "text/plain": [
              "array([0.31318433, 0.48093988, 0.17701442, ..., 0.31318433, 0.0812104 ,\n",
              "       0.0812104 ])"
            ]
          },
          "metadata": {},
          "execution_count": 43
        }
      ],
      "source": [
        "p"
      ]
    },
    {
      "cell_type": "code",
      "execution_count": null,
      "metadata": {
        "colab": {
          "base_uri": "https://localhost:8080/",
          "height": 112
        },
        "id": "d5gdtZRkuo7d",
        "outputId": "440a1a34-5105-4a03-898b-6f7c668e71f3"
      },
      "outputs": [
        {
          "output_type": "execute_result",
          "data": {
            "text/plain": [
              "           Method      MAPE     WMAPE\n",
              "0        Baseline  0.840448  0.577074\n",
              "1  RandomForest_1  0.768521  0.523851"
            ],
            "text/html": [
              "\n",
              "  <div id=\"df-9e221885-1e6e-4ea8-a599-d75db5cc48fd\">\n",
              "    <div class=\"colab-df-container\">\n",
              "      <div>\n",
              "<style scoped>\n",
              "    .dataframe tbody tr th:only-of-type {\n",
              "        vertical-align: middle;\n",
              "    }\n",
              "\n",
              "    .dataframe tbody tr th {\n",
              "        vertical-align: top;\n",
              "    }\n",
              "\n",
              "    .dataframe thead th {\n",
              "        text-align: right;\n",
              "    }\n",
              "</style>\n",
              "<table border=\"1\" class=\"dataframe\">\n",
              "  <thead>\n",
              "    <tr style=\"text-align: right;\">\n",
              "      <th></th>\n",
              "      <th>Method</th>\n",
              "      <th>MAPE</th>\n",
              "      <th>WMAPE</th>\n",
              "    </tr>\n",
              "  </thead>\n",
              "  <tbody>\n",
              "    <tr>\n",
              "      <th>0</th>\n",
              "      <td>Baseline</td>\n",
              "      <td>0.840448</td>\n",
              "      <td>0.577074</td>\n",
              "    </tr>\n",
              "    <tr>\n",
              "      <th>1</th>\n",
              "      <td>RandomForest_1</td>\n",
              "      <td>0.768521</td>\n",
              "      <td>0.523851</td>\n",
              "    </tr>\n",
              "  </tbody>\n",
              "</table>\n",
              "</div>\n",
              "      <button class=\"colab-df-convert\" onclick=\"convertToInteractive('df-9e221885-1e6e-4ea8-a599-d75db5cc48fd')\"\n",
              "              title=\"Convert this dataframe to an interactive table.\"\n",
              "              style=\"display:none;\">\n",
              "        \n",
              "  <svg xmlns=\"http://www.w3.org/2000/svg\" height=\"24px\"viewBox=\"0 0 24 24\"\n",
              "       width=\"24px\">\n",
              "    <path d=\"M0 0h24v24H0V0z\" fill=\"none\"/>\n",
              "    <path d=\"M18.56 5.44l.94 2.06.94-2.06 2.06-.94-2.06-.94-.94-2.06-.94 2.06-2.06.94zm-11 1L8.5 8.5l.94-2.06 2.06-.94-2.06-.94L8.5 2.5l-.94 2.06-2.06.94zm10 10l.94 2.06.94-2.06 2.06-.94-2.06-.94-.94-2.06-.94 2.06-2.06.94z\"/><path d=\"M17.41 7.96l-1.37-1.37c-.4-.4-.92-.59-1.43-.59-.52 0-1.04.2-1.43.59L10.3 9.45l-7.72 7.72c-.78.78-.78 2.05 0 2.83L4 21.41c.39.39.9.59 1.41.59.51 0 1.02-.2 1.41-.59l7.78-7.78 2.81-2.81c.8-.78.8-2.07 0-2.86zM5.41 20L4 18.59l7.72-7.72 1.47 1.35L5.41 20z\"/>\n",
              "  </svg>\n",
              "      </button>\n",
              "      \n",
              "  <style>\n",
              "    .colab-df-container {\n",
              "      display:flex;\n",
              "      flex-wrap:wrap;\n",
              "      gap: 12px;\n",
              "    }\n",
              "\n",
              "    .colab-df-convert {\n",
              "      background-color: #E8F0FE;\n",
              "      border: none;\n",
              "      border-radius: 50%;\n",
              "      cursor: pointer;\n",
              "      display: none;\n",
              "      fill: #1967D2;\n",
              "      height: 32px;\n",
              "      padding: 0 0 0 0;\n",
              "      width: 32px;\n",
              "    }\n",
              "\n",
              "    .colab-df-convert:hover {\n",
              "      background-color: #E2EBFA;\n",
              "      box-shadow: 0px 1px 2px rgba(60, 64, 67, 0.3), 0px 1px 3px 1px rgba(60, 64, 67, 0.15);\n",
              "      fill: #174EA6;\n",
              "    }\n",
              "\n",
              "    [theme=dark] .colab-df-convert {\n",
              "      background-color: #3B4455;\n",
              "      fill: #D2E3FC;\n",
              "    }\n",
              "\n",
              "    [theme=dark] .colab-df-convert:hover {\n",
              "      background-color: #434B5C;\n",
              "      box-shadow: 0px 1px 3px 1px rgba(0, 0, 0, 0.15);\n",
              "      filter: drop-shadow(0px 1px 2px rgba(0, 0, 0, 0.3));\n",
              "      fill: #FFFFFF;\n",
              "    }\n",
              "  </style>\n",
              "\n",
              "      <script>\n",
              "        const buttonEl =\n",
              "          document.querySelector('#df-9e221885-1e6e-4ea8-a599-d75db5cc48fd button.colab-df-convert');\n",
              "        buttonEl.style.display =\n",
              "          google.colab.kernel.accessAllowed ? 'block' : 'none';\n",
              "\n",
              "        async function convertToInteractive(key) {\n",
              "          const element = document.querySelector('#df-9e221885-1e6e-4ea8-a599-d75db5cc48fd');\n",
              "          const dataTable =\n",
              "            await google.colab.kernel.invokeFunction('convertToInteractive',\n",
              "                                                     [key], {});\n",
              "          if (!dataTable) return;\n",
              "\n",
              "          const docLinkHtml = 'Like what you see? Visit the ' +\n",
              "            '<a target=\"_blank\" href=https://colab.research.google.com/notebooks/data_table.ipynb>data table notebook</a>'\n",
              "            + ' to learn more about interactive tables.';\n",
              "          element.innerHTML = '';\n",
              "          dataTable['output_type'] = 'display_data';\n",
              "          await google.colab.output.renderOutput(dataTable, element);\n",
              "          const docLink = document.createElement('div');\n",
              "          docLink.innerHTML = docLinkHtml;\n",
              "          element.appendChild(docLink);\n",
              "        }\n",
              "      </script>\n",
              "    </div>\n",
              "  </div>\n",
              "  "
            ]
          },
          "metadata": {},
          "execution_count": 44
        }
      ],
      "source": [
        "result_2 = {'Method':'RandomForest_1','MAPE':mape(yval,p),'WMAPE':wmape(yval, p)}\n",
        "df_results = df_results.append(result_2, ignore_index = True)\n",
        "df_results"
      ]
    },
    {
      "cell_type": "markdown",
      "metadata": {
        "id": "BYZpt8ybvIk7"
      },
      "source": [
        "Check district 4 and draw result"
      ]
    },
    {
      "cell_type": "code",
      "execution_count": null,
      "metadata": {
        "id": "SmKOyOG_vxLp"
      },
      "outputs": [],
      "source": [
        "filter_district_df_all_hours_data_train = df_all_hours_data_train['district'] == 1\n",
        "filter_district_df_all_hours_data_valid = df_all_hours_data_valid['district'] == 1\n",
        "filter_district_df_tripsb_grouped = df_tripsb_grouped['district'] == 1\n",
        "\n",
        "Xval = imputer.transform(df_all_hours_data_valid[filter_district_df_all_hours_data_valid][features])\n",
        "yval = df_all_hours_data_valid[filter_district_df_all_hours_data_valid]['trips']\n",
        "\n",
        "p = mdl.predict(Xval)"
      ]
    },
    {
      "cell_type": "code",
      "execution_count": null,
      "metadata": {
        "colab": {
          "base_uri": "https://localhost:8080/",
          "height": 280
        },
        "id": "1bfFDMe1vJrG",
        "outputId": "7df331dd-1237-4ea5-95f9-b01254d49466"
      },
      "outputs": [
        {
          "output_type": "stream",
          "name": "stderr",
          "text": [
            "/usr/local/lib/python3.7/dist-packages/ipykernel_launcher.py:4: UserWarning: Boolean Series key will be reindexed to match DataFrame index.\n",
            "  after removing the cwd from sys.path.\n",
            "/usr/local/lib/python3.7/dist-packages/ipykernel_launcher.py:5: UserWarning: Boolean Series key will be reindexed to match DataFrame index.\n",
            "  \"\"\"\n"
          ]
        },
        {
          "output_type": "display_data",
          "data": {
            "text/plain": [
              "<Figure size 2880x216 with 1 Axes>"
            ],
            "image/png": "[encoded data removed]"
          },
          "metadata": {
            "needs_background": "light"
          }
        }
      ],
      "source": [
        "fig, ax = plt.subplots(figsize=(40, 3))\n",
        "\n",
        "#Original\n",
        "xpoints = df_tripsb_grouped[filter_valid][filter_district_df_tripsb_grouped]['dateandtime']\n",
        "yReal= df_tripsb_grouped[filter_valid][filter_district_df_tripsb_grouped]['trips']\n",
        "\n",
        "#Predicted\n",
        "ypoints = df_all_hours_data_valid[filter_district_df_all_hours_data_valid]['dateandtime']\n",
        "yEstimation = p\n",
        "\n",
        "plt.plot(xpoints, yReal, c='red')\n",
        "plt.plot(ypoints, yEstimation)\n",
        "plt.show()"
      ]
    },
    {
      "cell_type": "code",
      "execution_count": null,
      "metadata": {
        "colab": {
          "base_uri": "https://localhost:8080/"
        },
        "id": "-MlkfOpz0nQZ",
        "outputId": "2acd3371-9d28-4704-ab8d-758e8b49fa33"
      },
      "outputs": [
        {
          "output_type": "stream",
          "name": "stdout",
          "text": [
            "Mape for district 4 0.7342095489677928 WMAPE: 0.6699256870566354  Mean trips:  2.6869239631336406  WMAPE percent: 0.24932811506706376\n"
          ]
        }
      ],
      "source": [
        "print('Mape for district 4' , mape(yval,p) , 'WMAPE:', wmape(yval, p), ' Mean trips: ', df_tripsb_grouped[filter_valid][\"trips\"].mean(), ' WMAPE percent:', wmape(yval, p)/df_tripsb_grouped[filter_valid][\"trips\"].mean())"
      ]
    },
    {
      "cell_type": "markdown",
      "metadata": {
        "id": "JRAB9BC31gIG"
      },
      "source": [
        "As we can see when the district has a low volume of data the prediction are worse than in the districts with more information.\n",
        "\n",
        "This happend becouse the wmape is the same in all the districts but is not de same a MAPE of 1 in a data of 3 than in a data of 15"
      ]
    },
    {
      "cell_type": "markdown",
      "metadata": {
        "id": "oA9nalGU11AS"
      },
      "source": [
        "# Train a specific time series \n",
        "Train a specifict time series for this district to compare if the results could be better with a serie for every district instead of one for all"
      ]
    },
    {
      "cell_type": "code",
      "execution_count": null,
      "metadata": {
        "colab": {
          "base_uri": "https://localhost:8080/"
        },
        "id": "13QwZl5B0f8V",
        "outputId": "153f26dd-a465-48c7-b650-a8399144fe3e"
      },
      "outputs": [
        {
          "output_type": "stream",
          "name": "stdout",
          "text": [
            "Mape for district 1 0.7349293709669215 WMAPE: 0.7101749821265588  Mean trips:  2.6869239631336406  WMAPE percent: 0.2643078076903647\n"
          ]
        }
      ],
      "source": [
        "#Train model\n",
        "features= ['trips_lag_28_days',\t'trips_lag_14_days',\t'trips_lag_7_days',\t'trips_lag_1_days',\t'trips_lag_2_days',\t'trips_lag_1_hours',\t'trips_lag_2_hours']\n",
        "\n",
        "imputer = SimpleImputer()\n",
        "Xtr = imputer.fit_transform(df_all_hours_data_train[filter_district_df_all_hours_data_train][features])\n",
        "ytr = df_all_hours_data_train[filter_district_df_all_hours_data_train]['trips']\n",
        "\n",
        "mdl = RandomForestRegressor(n_estimators=100, random_state=0, n_jobs=6)\n",
        "mdl.fit(Xtr, ytr)\n",
        "#Evaluate model\n",
        "\n",
        "Xval = imputer.transform(df_all_hours_data_valid[filter_district_df_all_hours_data_valid][features])\n",
        "yval = df_all_hours_data_valid[filter_district_df_all_hours_data_valid]['trips']\n",
        "\n",
        "p = mdl.predict(Xval)\n",
        "print('Mape for district 1' , mape(yval,p) , 'WMAPE:', wmape(yval, p), ' Mean trips: ', df_tripsb_grouped[filter_valid][\"trips\"].mean(), ' WMAPE percent:', wmape(yval, p)/df_tripsb_grouped[filter_valid][\"trips\"].mean())"
      ]
    },
    {
      "cell_type": "code",
      "execution_count": null,
      "metadata": {
        "colab": {
          "base_uri": "https://localhost:8080/",
          "height": 144
        },
        "id": "UyAR9slcGtNY",
        "outputId": "7bb7cb8f-9ba5-4da6-8963-c1ed471a4994"
      },
      "outputs": [
        {
          "output_type": "execute_result",
          "data": {
            "text/plain": [
              "                  Method      MAPE     WMAPE\n",
              "0               Baseline  0.840448  0.577074\n",
              "1         RandomForest_1  0.768521  0.523851\n",
              "2  RandomForest_1_DISC_1  0.734929  0.710175"
            ],
            "text/html": [
              "\n",
              "  <div id=\"df-183b0521-b043-48ce-9c70-0f21840922a3\">\n",
              "    <div class=\"colab-df-container\">\n",
              "      <div>\n",
              "<style scoped>\n",
              "    .dataframe tbody tr th:only-of-type {\n",
              "        vertical-align: middle;\n",
              "    }\n",
              "\n",
              "    .dataframe tbody tr th {\n",
              "        vertical-align: top;\n",
              "    }\n",
              "\n",
              "    .dataframe thead th {\n",
              "        text-align: right;\n",
              "    }\n",
              "</style>\n",
              "<table border=\"1\" class=\"dataframe\">\n",
              "  <thead>\n",
              "    <tr style=\"text-align: right;\">\n",
              "      <th></th>\n",
              "      <th>Method</th>\n",
              "      <th>MAPE</th>\n",
              "      <th>WMAPE</th>\n",
              "    </tr>\n",
              "  </thead>\n",
              "  <tbody>\n",
              "    <tr>\n",
              "      <th>0</th>\n",
              "      <td>Baseline</td>\n",
              "      <td>0.840448</td>\n",
              "      <td>0.577074</td>\n",
              "    </tr>\n",
              "    <tr>\n",
              "      <th>1</th>\n",
              "      <td>RandomForest_1</td>\n",
              "      <td>0.768521</td>\n",
              "      <td>0.523851</td>\n",
              "    </tr>\n",
              "    <tr>\n",
              "      <th>2</th>\n",
              "      <td>RandomForest_1_DISC_1</td>\n",
              "      <td>0.734929</td>\n",
              "      <td>0.710175</td>\n",
              "    </tr>\n",
              "  </tbody>\n",
              "</table>\n",
              "</div>\n",
              "      <button class=\"colab-df-convert\" onclick=\"convertToInteractive('df-183b0521-b043-48ce-9c70-0f21840922a3')\"\n",
              "              title=\"Convert this dataframe to an interactive table.\"\n",
              "              style=\"display:none;\">\n",
              "        \n",
              "  <svg xmlns=\"http://www.w3.org/2000/svg\" height=\"24px\"viewBox=\"0 0 24 24\"\n",
              "       width=\"24px\">\n",
              "    <path d=\"M0 0h24v24H0V0z\" fill=\"none\"/>\n",
              "    <path d=\"M18.56 5.44l.94 2.06.94-2.06 2.06-.94-2.06-.94-.94-2.06-.94 2.06-2.06.94zm-11 1L8.5 8.5l.94-2.06 2.06-.94-2.06-.94L8.5 2.5l-.94 2.06-2.06.94zm10 10l.94 2.06.94-2.06 2.06-.94-2.06-.94-.94-2.06-.94 2.06-2.06.94z\"/><path d=\"M17.41 7.96l-1.37-1.37c-.4-.4-.92-.59-1.43-.59-.52 0-1.04.2-1.43.59L10.3 9.45l-7.72 7.72c-.78.78-.78 2.05 0 2.83L4 21.41c.39.39.9.59 1.41.59.51 0 1.02-.2 1.41-.59l7.78-7.78 2.81-2.81c.8-.78.8-2.07 0-2.86zM5.41 20L4 18.59l7.72-7.72 1.47 1.35L5.41 20z\"/>\n",
              "  </svg>\n",
              "      </button>\n",
              "      \n",
              "  <style>\n",
              "    .colab-df-container {\n",
              "      display:flex;\n",
              "      flex-wrap:wrap;\n",
              "      gap: 12px;\n",
              "    }\n",
              "\n",
              "    .colab-df-convert {\n",
              "      background-color: #E8F0FE;\n",
              "      border: none;\n",
              "      border-radius: 50%;\n",
              "      cursor: pointer;\n",
              "      display: none;\n",
              "      fill: #1967D2;\n",
              "      height: 32px;\n",
              "      padding: 0 0 0 0;\n",
              "      width: 32px;\n",
              "    }\n",
              "\n",
              "    .colab-df-convert:hover {\n",
              "      background-color: #E2EBFA;\n",
              "      box-shadow: 0px 1px 2px rgba(60, 64, 67, 0.3), 0px 1px 3px 1px rgba(60, 64, 67, 0.15);\n",
              "      fill: #174EA6;\n",
              "    }\n",
              "\n",
              "    [theme=dark] .colab-df-convert {\n",
              "      background-color: #3B4455;\n",
              "      fill: #D2E3FC;\n",
              "    }\n",
              "\n",
              "    [theme=dark] .colab-df-convert:hover {\n",
              "      background-color: #434B5C;\n",
              "      box-shadow: 0px 1px 3px 1px rgba(0, 0, 0, 0.15);\n",
              "      filter: drop-shadow(0px 1px 2px rgba(0, 0, 0, 0.3));\n",
              "      fill: #FFFFFF;\n",
              "    }\n",
              "  </style>\n",
              "\n",
              "      <script>\n",
              "        const buttonEl =\n",
              "          document.querySelector('#df-183b0521-b043-48ce-9c70-0f21840922a3 button.colab-df-convert');\n",
              "        buttonEl.style.display =\n",
              "          google.colab.kernel.accessAllowed ? 'block' : 'none';\n",
              "\n",
              "        async function convertToInteractive(key) {\n",
              "          const element = document.querySelector('#df-183b0521-b043-48ce-9c70-0f21840922a3');\n",
              "          const dataTable =\n",
              "            await google.colab.kernel.invokeFunction('convertToInteractive',\n",
              "                                                     [key], {});\n",
              "          if (!dataTable) return;\n",
              "\n",
              "          const docLinkHtml = 'Like what you see? Visit the ' +\n",
              "            '<a target=\"_blank\" href=https://colab.research.google.com/notebooks/data_table.ipynb>data table notebook</a>'\n",
              "            + ' to learn more about interactive tables.';\n",
              "          element.innerHTML = '';\n",
              "          dataTable['output_type'] = 'display_data';\n",
              "          await google.colab.output.renderOutput(dataTable, element);\n",
              "          const docLink = document.createElement('div');\n",
              "          docLink.innerHTML = docLinkHtml;\n",
              "          element.appendChild(docLink);\n",
              "        }\n",
              "      </script>\n",
              "    </div>\n",
              "  </div>\n",
              "  "
            ]
          },
          "metadata": {},
          "execution_count": 50
        }
      ],
      "source": [
        "#Calculate error\n",
        "result_3 = {'Method':'RandomForest_1_DISC_1','MAPE':mape(yval,p),'WMAPE':wmape(yval, p)}\n",
        "df_results = df_results.append(result_3, ignore_index = True)\n",
        "df_results"
      ]
    },
    {
      "cell_type": "markdown",
      "metadata": {
        "id": "b6zUqWEX2rWJ"
      },
      "source": [
        "The result of the specific time series is as worst as with all the data\n",
        "\n",
        "This doesn`t means that a global time series is as good as one for each district becouse maybe the data is not as good / as enought to have a better effect a individual time series"
      ]
    },
    {
      "cell_type": "markdown",
      "metadata": {
        "id": "kftCOiMC4eav"
      },
      "source": [
        "#Arima\n"
      ]
    },
    {
      "cell_type": "code",
      "execution_count": null,
      "metadata": {
        "colab": {
          "base_uri": "https://localhost:8080/",
          "height": 227
        },
        "id": "Q-uhFwqr5yJ9",
        "outputId": "5ebaff21-c26f-4fea-a97d-168edcd39b4f"
      },
      "outputs": [
        {
          "output_type": "display_data",
          "data": {
            "text/plain": [
              "<Figure size 1440x216 with 1 Axes>"
            ],
            "image/png": "[encoded data removed]"
          },
          "metadata": {
            "needs_background": "light"
          }
        }
      ],
      "source": [
        "fig, ax = plt.subplots(figsize=(20, 3))\n",
        "plot_pacf(df_tripsb_grouped.trips, ax=ax, lags=2*24)\n",
        "plt.show()"
      ]
    },
    {
      "cell_type": "markdown",
      "metadata": {
        "id": "xxcrLGHV5ze3"
      },
      "source": [
        "Estuding the Partial Autocorrelation select p as 24"
      ]
    },
    {
      "cell_type": "code",
      "execution_count": null,
      "metadata": {
        "colab": {
          "base_uri": "https://localhost:8080/",
          "height": 227
        },
        "id": "Ui10KlWl4t_K",
        "outputId": "3a133ea6-67c3-4ee7-e2d1-7c02663b5601"
      },
      "outputs": [
        {
          "output_type": "display_data",
          "data": {
            "text/plain": [
              "<Figure size 1440x216 with 1 Axes>"
            ],
            "image/png": "[encoded data removed]"
          },
          "metadata": {
            "needs_background": "light"
          }
        }
      ],
      "source": [
        "fig, ax = plt.subplots(figsize=(20, 3))\n",
        "plot_acf(df_tripsb_grouped.trips, ax=ax, lags=2*7*24)\n",
        "plt.show()"
      ]
    },
    {
      "cell_type": "markdown",
      "metadata": {
        "id": "1Z-4EtgB5GlM"
      },
      "source": [
        "Estuding the Autocorrelation select q as 24*7=168"
      ]
    },
    {
      "cell_type": "code",
      "execution_count": null,
      "metadata": {
        "id": "1GEbVZqL6THe"
      },
      "outputs": [],
      "source": [
        "#For arima model we only need one variable 'rides', the variable we want to predict\n",
        "data_arima = df_tripsb_grouped['trips']\n",
        "#Now only for district 1\n",
        "train_arima= df_tripsb_grouped[filter_train][filter_district_df_all_hours_data_train]['trips']\n",
        "valid_arima= df_tripsb_grouped[filter_valid][filter_district_df_all_hours_data_valid]['trips']"
      ]
    },
    {
      "cell_type": "markdown",
      "source": [
        "Next step takes a long long time to execute"
      ],
      "metadata": {
        "id": "H8l9P__bFNsR"
      }
    },
    {
      "cell_type": "code",
      "execution_count": null,
      "metadata": {
        "colab": {
          "base_uri": "https://localhost:8080/"
        },
        "id": "VR1Meh3t6tQS",
        "outputId": "d1cdc2f3-cba1-4c57-b28a-8af4dd4aafff"
      },
      "outputs": [
        {
          "output_type": "stream",
          "name": "stderr",
          "text": [
            "/usr/local/lib/python3.7/dist-packages/statsmodels/base/model.py:548: HessianInversionWarning: Inverting hessian failed, no bse or cov_params available\n",
            "  'available', HessianInversionWarning)\n",
            "/usr/local/lib/python3.7/dist-packages/statsmodels/base/model.py:568: ConvergenceWarning: Maximum Likelihood optimization failed to converge. Check mle_retvals\n",
            "  ConvergenceWarning)\n"
          ]
        }
      ],
      "source": [
        "#Create the model with the train data\n",
        "arima_model = ARIMA(train_arima, order=(24,0,10))\n",
        "#Fit the model\n",
        "model_fit = arima_model.fit()"
      ]
    },
    {
      "cell_type": "code",
      "execution_count": null,
      "metadata": {
        "id": "e4X9D-Qp6zBT"
      },
      "outputs": [],
      "source": [
        "#Print of the summary of results\n",
        "print(model_fit.summary())"
      ]
    },
    {
      "cell_type": "code",
      "execution_count": null,
      "metadata": {
        "id": "QHh5EHLC9_L6"
      },
      "outputs": [],
      "source": [
        "#TODO: Analyze if are wihte noise"
      ]
    },
    {
      "cell_type": "code",
      "execution_count": null,
      "metadata": {
        "id": "YbZCq7sQ-Bse"
      },
      "outputs": [],
      "source": [
        "#obtain predictions and interval confidence of them\n",
        "predictions, se, confidence = model_fit.forecast(len(valid_arima),alpha = 0.05) #95% confidence\n",
        "predictions = pd.Series(predictions, index=valid_arima.index)\n",
        "lower_band = pd.Series(confidence[:,0], index = valid_arima.index)\n",
        "upper_band = pd.Series(confidence[:,1], index=valid_arima.index)\n",
        "\n",
        "#Plot of predictions vs real demand and the interval of 95% confidence\n",
        "plt.figure(figsize=(16,5))\n",
        "plt.plot(valid_arima, label = 'demand')\n",
        "plt.plot(predictions, label ='predictions')\n",
        "plt.fill_between(lower_band.index, lower_band,upper_band, color='k', alpha=.15)\n",
        "plt.legend()\n",
        "plt.show()"
      ]
    },
    {
      "cell_type": "code",
      "execution_count": null,
      "metadata": {
        "id": "1_fQ8uA8Fy5k"
      },
      "outputs": [],
      "source": [
        "#Calculate error\n",
        "result_3 = {'Method':'Arima_96_0_96_ONLY_1','MAPE':mape(valid_arima,predictions),'WMAPE':wmape(valid_arima, predictions)}\n",
        "df_results = df_results.append(result_3, ignore_index = True)\n",
        "df_results"
      ]
    },
    {
      "cell_type": "code",
      "source": [],
      "metadata": {
        "id": "4thLjmYdBtSg"
      },
      "execution_count": null,
      "outputs": []
    },
    {
      "cell_type": "markdown",
      "metadata": {
        "id": "f_i2W5F2Fevt"
      },
      "source": [
        "# Usar WAPE en lugar de RMSE\n",
        "\"Muchos clientes minoristas trabajan con datasets dispersos, donde la mayoría de sus SKUs se venden con poca frecuencia. Para la mayoría de los datos históricos, la demanda es 0. Para estos datasets, es importante tener en cuenta la escala de la demanda total, haciendo que wQL y WAPE sean una mejor métrica que RMSE para evaluar datasets dispersos. La métrica RMSE no toma en cuenta la escala de la demanda total y devuelve un valor RMSE más bajo considerando el número total de puntos de datos históricos y el número total de SKUs, dando una falsa sensación de seguridad de que se tiene un modelo preciso.\"\n",
        "\n",
        "Fuente: https://aws.amazon.com/es/blogs/aws-spanish/midiendo-la-precision-de-modelos-de-forecast-para-optimizar-sus-objetivos-de-negocio-con-amazon-forecast/ apartado \"Weighted absolute percentage error (WAPE)\""
      ]
    }
  ],
  "metadata": {
    "colab": {
      "collapsed_sections": [],
      "name": "07 - Mobility - Data 2 -  District Time Series",
      "provenance": []
    },
    "kernelspec": {
      "display_name": "Python 3",
      "name": "python3"
    },
    "language_info": {
      "name": "python"
    }
  },
  "nbformat": 4,
  "nbformat_minor": 0
}
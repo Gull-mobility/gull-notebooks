{
  "nbformat": 4,
  "nbformat_minor": 0,
  "metadata": {
    "colab": {
      "name": "03 - Mobility - Data 2 - Analysis with time series",
      "provenance": [],
      "collapsed_sections": []
    },
    "kernelspec": {
      "name": "python3",
      "display_name": "Python 3"
    },
    "language_info": {
      "name": "python"
    }
  },
  "cells": [
    {
      "cell_type": "markdown",
      "source": [
        "# Guide\n",
        "With the bad result of the notebook before we have the idea of change to de dataset2 because at this point we think that the Dataset 1 maybe is useless because have a bad quality\n",
        "\n",
        "We try to use time series prediction but analyzing with pacf y acf we notice that there is not a good correlation so is not a good idea to continue on this side.\n",
        "\n",
        "\n",
        "# Preconfiguration\n",
        "To execute - First create a service account and save in Google Drive, after change next data"
      ],
      "metadata": {
        "id": "CsvclNB_poLk"
      }
    },
    {
      "cell_type": "code",
      "source": [
        "#Modify after MyDrive providing folders and file name\n",
        "service_account_location = \"drive/MyDrive/Ideas/movilidad/vacio-276411-service_account_for_colab.json\""
      ],
      "metadata": {
        "id": "nQUa0iGzppMW"
      },
      "execution_count": 5,
      "outputs": []
    },
    {
      "cell_type": "markdown",
      "source": [
        "# Imports"
      ],
      "metadata": {
        "id": "yHbukTOLAR0a"
      }
    },
    {
      "cell_type": "code",
      "source": [
        "pip install statsmodels "
      ],
      "metadata": {
        "colab": {
          "base_uri": "https://localhost:8080/"
        },
        "id": "dKxcr1AI7j4C",
        "outputId": "1bc3d3bf-14e1-477c-dc55-a5b79555ddad"
      },
      "execution_count": 6,
      "outputs": [
        {
          "output_type": "stream",
          "name": "stdout",
          "text": [
            "Looking in indexes: https://pypi.org/simple, https://us-python.pkg.dev/colab-wheels/public/simple/\n",
            "Requirement already satisfied: statsmodels in /usr/local/lib/python3.7/dist-packages (0.12.2)\n",
            "Requirement already satisfied: patsy>=0.5 in /usr/local/lib/python3.7/dist-packages (from statsmodels) (0.5.2)\n",
            "Requirement already satisfied: scipy>=1.1 in /usr/local/lib/python3.7/dist-packages (from statsmodels) (1.7.3)\n",
            "Requirement already satisfied: pandas>=0.21 in /usr/local/lib/python3.7/dist-packages (from statsmodels) (1.3.5)\n",
            "Requirement already satisfied: numpy>=1.15 in /usr/local/lib/python3.7/dist-packages (from statsmodels) (1.21.6)\n",
            "Requirement already satisfied: pytz>=2017.3 in /usr/local/lib/python3.7/dist-packages (from pandas>=0.21->statsmodels) (2022.2.1)\n",
            "Requirement already satisfied: python-dateutil>=2.7.3 in /usr/local/lib/python3.7/dist-packages (from pandas>=0.21->statsmodels) (2.8.2)\n",
            "Requirement already satisfied: six in /usr/local/lib/python3.7/dist-packages (from patsy>=0.5->statsmodels) (1.15.0)\n"
          ]
        }
      ]
    },
    {
      "cell_type": "code",
      "source": [
        "import pandas as pd\n",
        "import matplotlib.pyplot as plt"
      ],
      "metadata": {
        "id": "FuAXZKzFJWAx"
      },
      "execution_count": 7,
      "outputs": []
    },
    {
      "cell_type": "code",
      "execution_count": 8,
      "metadata": {
        "colab": {
          "base_uri": "https://localhost:8080/"
        },
        "id": "PIDSUgCJAK--",
        "outputId": "7a6dd5b6-8459-44fe-afac-c0a609fc4127"
      },
      "outputs": [
        {
          "output_type": "stream",
          "name": "stdout",
          "text": [
            "Mounted at /content/drive\n"
          ]
        }
      ],
      "source": [
        "#BIGQUERY IMPORTS\n",
        "from google.cloud import bigquery #For bigquerycredentials\n",
        "from google.oauth2 import service_account #For credentials\n",
        "\n",
        "\n",
        "##Mount access to Drive\n",
        "from google.colab import drive\n",
        "drive.mount('/content/drive',force_remount=True)\n",
        "\n",
        "#Set credentials as global\n",
        "import os\n",
        "os.environ[\"GOOGLE_APPLICATION_CREDENTIALS\"]= service_account_location\n",
        "\n",
        "# Construct a BigQuery client object.\n",
        "client = bigquery.Client()"
      ]
    },
    {
      "cell_type": "markdown",
      "source": [
        "# Get data"
      ],
      "metadata": {
        "id": "9kWDpCZtAfQ4"
      }
    },
    {
      "cell_type": "code",
      "source": [
        "query = \"\"\"\n",
        "SELECT \n",
        "    latitude_start_r,\n",
        "    longitude_start_r,\n",
        "    date,\n",
        "    hour,\n",
        "    trips \n",
        "  FROM `vacio-276411.mainDataset.V2_model_data_latlon2_hour_trips_MADRID`\n",
        "\"\"\"\n",
        "df_ts = client.query(query).to_dataframe()"
      ],
      "metadata": {
        "id": "TuRJAt3WArzM"
      },
      "execution_count": 9,
      "outputs": []
    },
    {
      "cell_type": "code",
      "source": [
        "df_ts"
      ],
      "metadata": {
        "colab": {
          "base_uri": "https://localhost:8080/",
          "height": 455
        },
        "id": "pabeVbz3qZtX",
        "outputId": "c552d388-eaba-442e-e1ce-c30c8ba04afb"
      },
      "execution_count": 37,
      "outputs": [
        {
          "output_type": "execute_result",
          "data": {
            "text/plain": [
              "               latitude_start_r  longitude_start_r       date  hour  trips\n",
              "datetime                                                                  \n",
              "2022-06-11 00             40.41              -3.71 2022-06-11     0      0\n",
              "2022-06-11 00             40.47              -3.62 2022-06-11     0      0\n",
              "2022-06-11 00             40.43              -3.71 2022-06-11     0      0\n",
              "2022-06-11 00             40.39              -3.68 2022-06-11     0      0\n",
              "2022-06-11 00             40.49              -3.69 2022-06-11     0      0\n",
              "...                         ...                ...        ...   ...    ...\n",
              "2022-08-31 23             40.43              -3.70 2022-08-31    23      0\n",
              "2022-08-31 23             40.47              -3.66 2022-08-31    23      0\n",
              "2022-08-31 23             40.45              -3.65 2022-08-31    23      0\n",
              "2022-08-31 23             40.53              -3.63 2022-08-31    23      0\n",
              "2022-08-31 23             40.38              -3.60 2022-08-31    23      0\n",
              "\n",
              "[289296 rows x 5 columns]"
            ],
            "text/html": [
              "\n",
              "  <div id=\"df-1dae3f45-94e6-4a6f-9da8-99876f362e3e\">\n",
              "    <div class=\"colab-df-container\">\n",
              "      <div>\n",
              "<style scoped>\n",
              "    .dataframe tbody tr th:only-of-type {\n",
              "        vertical-align: middle;\n",
              "    }\n",
              "\n",
              "    .dataframe tbody tr th {\n",
              "        vertical-align: top;\n",
              "    }\n",
              "\n",
              "    .dataframe thead th {\n",
              "        text-align: right;\n",
              "    }\n",
              "</style>\n",
              "<table border=\"1\" class=\"dataframe\">\n",
              "  <thead>\n",
              "    <tr style=\"text-align: right;\">\n",
              "      <th></th>\n",
              "      <th>latitude_start_r</th>\n",
              "      <th>longitude_start_r</th>\n",
              "      <th>date</th>\n",
              "      <th>hour</th>\n",
              "      <th>trips</th>\n",
              "    </tr>\n",
              "    <tr>\n",
              "      <th>datetime</th>\n",
              "      <th></th>\n",
              "      <th></th>\n",
              "      <th></th>\n",
              "      <th></th>\n",
              "      <th></th>\n",
              "    </tr>\n",
              "  </thead>\n",
              "  <tbody>\n",
              "    <tr>\n",
              "      <th>2022-06-11 00</th>\n",
              "      <td>40.41</td>\n",
              "      <td>-3.71</td>\n",
              "      <td>2022-06-11</td>\n",
              "      <td>0</td>\n",
              "      <td>0</td>\n",
              "    </tr>\n",
              "    <tr>\n",
              "      <th>2022-06-11 00</th>\n",
              "      <td>40.47</td>\n",
              "      <td>-3.62</td>\n",
              "      <td>2022-06-11</td>\n",
              "      <td>0</td>\n",
              "      <td>0</td>\n",
              "    </tr>\n",
              "    <tr>\n",
              "      <th>2022-06-11 00</th>\n",
              "      <td>40.43</td>\n",
              "      <td>-3.71</td>\n",
              "      <td>2022-06-11</td>\n",
              "      <td>0</td>\n",
              "      <td>0</td>\n",
              "    </tr>\n",
              "    <tr>\n",
              "      <th>2022-06-11 00</th>\n",
              "      <td>40.39</td>\n",
              "      <td>-3.68</td>\n",
              "      <td>2022-06-11</td>\n",
              "      <td>0</td>\n",
              "      <td>0</td>\n",
              "    </tr>\n",
              "    <tr>\n",
              "      <th>2022-06-11 00</th>\n",
              "      <td>40.49</td>\n",
              "      <td>-3.69</td>\n",
              "      <td>2022-06-11</td>\n",
              "      <td>0</td>\n",
              "      <td>0</td>\n",
              "    </tr>\n",
              "    <tr>\n",
              "      <th>...</th>\n",
              "      <td>...</td>\n",
              "      <td>...</td>\n",
              "      <td>...</td>\n",
              "      <td>...</td>\n",
              "      <td>...</td>\n",
              "    </tr>\n",
              "    <tr>\n",
              "      <th>2022-08-31 23</th>\n",
              "      <td>40.43</td>\n",
              "      <td>-3.70</td>\n",
              "      <td>2022-08-31</td>\n",
              "      <td>23</td>\n",
              "      <td>0</td>\n",
              "    </tr>\n",
              "    <tr>\n",
              "      <th>2022-08-31 23</th>\n",
              "      <td>40.47</td>\n",
              "      <td>-3.66</td>\n",
              "      <td>2022-08-31</td>\n",
              "      <td>23</td>\n",
              "      <td>0</td>\n",
              "    </tr>\n",
              "    <tr>\n",
              "      <th>2022-08-31 23</th>\n",
              "      <td>40.45</td>\n",
              "      <td>-3.65</td>\n",
              "      <td>2022-08-31</td>\n",
              "      <td>23</td>\n",
              "      <td>0</td>\n",
              "    </tr>\n",
              "    <tr>\n",
              "      <th>2022-08-31 23</th>\n",
              "      <td>40.53</td>\n",
              "      <td>-3.63</td>\n",
              "      <td>2022-08-31</td>\n",
              "      <td>23</td>\n",
              "      <td>0</td>\n",
              "    </tr>\n",
              "    <tr>\n",
              "      <th>2022-08-31 23</th>\n",
              "      <td>40.38</td>\n",
              "      <td>-3.60</td>\n",
              "      <td>2022-08-31</td>\n",
              "      <td>23</td>\n",
              "      <td>0</td>\n",
              "    </tr>\n",
              "  </tbody>\n",
              "</table>\n",
              "<p>289296 rows × 5 columns</p>\n",
              "</div>\n",
              "      <button class=\"colab-df-convert\" onclick=\"convertToInteractive('df-1dae3f45-94e6-4a6f-9da8-99876f362e3e')\"\n",
              "              title=\"Convert this dataframe to an interactive table.\"\n",
              "              style=\"display:none;\">\n",
              "        \n",
              "  <svg xmlns=\"http://www.w3.org/2000/svg\" height=\"24px\"viewBox=\"0 0 24 24\"\n",
              "       width=\"24px\">\n",
              "    <path d=\"M0 0h24v24H0V0z\" fill=\"none\"/>\n",
              "    <path d=\"M18.56 5.44l.94 2.06.94-2.06 2.06-.94-2.06-.94-.94-2.06-.94 2.06-2.06.94zm-11 1L8.5 8.5l.94-2.06 2.06-.94-2.06-.94L8.5 2.5l-.94 2.06-2.06.94zm10 10l.94 2.06.94-2.06 2.06-.94-2.06-.94-.94-2.06-.94 2.06-2.06.94z\"/><path d=\"M17.41 7.96l-1.37-1.37c-.4-.4-.92-.59-1.43-.59-.52 0-1.04.2-1.43.59L10.3 9.45l-7.72 7.72c-.78.78-.78 2.05 0 2.83L4 21.41c.39.39.9.59 1.41.59.51 0 1.02-.2 1.41-.59l7.78-7.78 2.81-2.81c.8-.78.8-2.07 0-2.86zM5.41 20L4 18.59l7.72-7.72 1.47 1.35L5.41 20z\"/>\n",
              "  </svg>\n",
              "      </button>\n",
              "      \n",
              "  <style>\n",
              "    .colab-df-container {\n",
              "      display:flex;\n",
              "      flex-wrap:wrap;\n",
              "      gap: 12px;\n",
              "    }\n",
              "\n",
              "    .colab-df-convert {\n",
              "      background-color: #E8F0FE;\n",
              "      border: none;\n",
              "      border-radius: 50%;\n",
              "      cursor: pointer;\n",
              "      display: none;\n",
              "      fill: #1967D2;\n",
              "      height: 32px;\n",
              "      padding: 0 0 0 0;\n",
              "      width: 32px;\n",
              "    }\n",
              "\n",
              "    .colab-df-convert:hover {\n",
              "      background-color: #E2EBFA;\n",
              "      box-shadow: 0px 1px 2px rgba(60, 64, 67, 0.3), 0px 1px 3px 1px rgba(60, 64, 67, 0.15);\n",
              "      fill: #174EA6;\n",
              "    }\n",
              "\n",
              "    [theme=dark] .colab-df-convert {\n",
              "      background-color: #3B4455;\n",
              "      fill: #D2E3FC;\n",
              "    }\n",
              "\n",
              "    [theme=dark] .colab-df-convert:hover {\n",
              "      background-color: #434B5C;\n",
              "      box-shadow: 0px 1px 3px 1px rgba(0, 0, 0, 0.15);\n",
              "      filter: drop-shadow(0px 1px 2px rgba(0, 0, 0, 0.3));\n",
              "      fill: #FFFFFF;\n",
              "    }\n",
              "  </style>\n",
              "\n",
              "      <script>\n",
              "        const buttonEl =\n",
              "          document.querySelector('#df-1dae3f45-94e6-4a6f-9da8-99876f362e3e button.colab-df-convert');\n",
              "        buttonEl.style.display =\n",
              "          google.colab.kernel.accessAllowed ? 'block' : 'none';\n",
              "\n",
              "        async function convertToInteractive(key) {\n",
              "          const element = document.querySelector('#df-1dae3f45-94e6-4a6f-9da8-99876f362e3e');\n",
              "          const dataTable =\n",
              "            await google.colab.kernel.invokeFunction('convertToInteractive',\n",
              "                                                     [key], {});\n",
              "          if (!dataTable) return;\n",
              "\n",
              "          const docLinkHtml = 'Like what you see? Visit the ' +\n",
              "            '<a target=\"_blank\" href=https://colab.research.google.com/notebooks/data_table.ipynb>data table notebook</a>'\n",
              "            + ' to learn more about interactive tables.';\n",
              "          element.innerHTML = '';\n",
              "          dataTable['output_type'] = 'display_data';\n",
              "          await google.colab.output.renderOutput(dataTable, element);\n",
              "          const docLink = document.createElement('div');\n",
              "          docLink.innerHTML = docLinkHtml;\n",
              "          element.appendChild(docLink);\n",
              "        }\n",
              "      </script>\n",
              "    </div>\n",
              "  </div>\n",
              "  "
            ]
          },
          "metadata": {},
          "execution_count": 37
        }
      ]
    },
    {
      "cell_type": "code",
      "source": [
        "df_ts.dtypes"
      ],
      "metadata": {
        "colab": {
          "base_uri": "https://localhost:8080/"
        },
        "id": "1eQ1h1DaCNZ-",
        "outputId": "bf56705a-845b-475a-9c7a-0ee10f9109c1"
      },
      "execution_count": 10,
      "outputs": [
        {
          "output_type": "execute_result",
          "data": {
            "text/plain": [
              "latitude_start_r     object\n",
              "longitude_start_r    object\n",
              "date                 object\n",
              "hour                  int64\n",
              "trips                 int64\n",
              "dtype: object"
            ]
          },
          "metadata": {},
          "execution_count": 10
        }
      ]
    },
    {
      "cell_type": "code",
      "source": [
        "##Convert latitude and longitude to number\n",
        "df_ts['latitude_start_r'] = df_ts['latitude_start_r'].astype(str).astype(float)\n",
        "df_ts['longitude_start_r'] = df_ts['longitude_start_r'].astype(str).astype(float)\n",
        "#Convert date colum to datetime type\n",
        "df_ts[\"date\"] = pd.to_datetime(df_ts[\"date\"], format='%Y-%m-%d')"
      ],
      "metadata": {
        "id": "8i4oRYihB-7I"
      },
      "execution_count": 11,
      "outputs": []
    },
    {
      "cell_type": "code",
      "source": [
        "df_ts.dtypes"
      ],
      "metadata": {
        "colab": {
          "base_uri": "https://localhost:8080/"
        },
        "id": "tqEU8oejBXH1",
        "outputId": "e2b0785c-d416-4c2d-e55b-3be2c3a4f2c4"
      },
      "execution_count": 12,
      "outputs": [
        {
          "output_type": "execute_result",
          "data": {
            "text/plain": [
              "latitude_start_r            float64\n",
              "longitude_start_r           float64\n",
              "date                 datetime64[ns]\n",
              "hour                          int64\n",
              "trips                         int64\n",
              "dtype: object"
            ]
          },
          "metadata": {},
          "execution_count": 12
        }
      ]
    },
    {
      "cell_type": "code",
      "source": [
        "#Create datetime colum\n",
        "df_ts[\"datetime\"]  = df_ts[\"date\"].dt.strftime('%Y-%m-%d') + \" \" + df_ts[\"hour\"].apply(str).str.zfill(2)\n",
        "pd.to_datetime(df_ts[\"datetime\"])\n",
        "df_ts"
      ],
      "metadata": {
        "colab": {
          "base_uri": "https://localhost:8080/",
          "height": 423
        },
        "id": "uLV2iVUFNuvY",
        "outputId": "c10ddea7-e9f5-47c2-e5d6-b5066021ed9e"
      },
      "execution_count": 13,
      "outputs": [
        {
          "output_type": "execute_result",
          "data": {
            "text/plain": [
              "        latitude_start_r  longitude_start_r       date  hour  trips  \\\n",
              "0                  40.41              -3.71 2022-06-11     0      0   \n",
              "1                  40.41              -3.71 2022-06-11     1      0   \n",
              "2                  40.41              -3.71 2022-06-11     2      0   \n",
              "3                  40.41              -3.71 2022-06-11     3      0   \n",
              "4                  40.41              -3.71 2022-06-11     4      0   \n",
              "...                  ...                ...        ...   ...    ...   \n",
              "289291             40.38              -3.60 2022-08-31    19      0   \n",
              "289292             40.38              -3.60 2022-08-31    20      0   \n",
              "289293             40.38              -3.60 2022-08-31    21      0   \n",
              "289294             40.38              -3.60 2022-08-31    22      0   \n",
              "289295             40.38              -3.60 2022-08-31    23      0   \n",
              "\n",
              "             datetime  \n",
              "0       2022-06-11 00  \n",
              "1       2022-06-11 01  \n",
              "2       2022-06-11 02  \n",
              "3       2022-06-11 03  \n",
              "4       2022-06-11 04  \n",
              "...               ...  \n",
              "289291  2022-08-31 19  \n",
              "289292  2022-08-31 20  \n",
              "289293  2022-08-31 21  \n",
              "289294  2022-08-31 22  \n",
              "289295  2022-08-31 23  \n",
              "\n",
              "[289296 rows x 6 columns]"
            ],
            "text/html": [
              "\n",
              "  <div id=\"df-b6bbe0fd-bbe3-4d03-9041-62073103bba7\">\n",
              "    <div class=\"colab-df-container\">\n",
              "      <div>\n",
              "<style scoped>\n",
              "    .dataframe tbody tr th:only-of-type {\n",
              "        vertical-align: middle;\n",
              "    }\n",
              "\n",
              "    .dataframe tbody tr th {\n",
              "        vertical-align: top;\n",
              "    }\n",
              "\n",
              "    .dataframe thead th {\n",
              "        text-align: right;\n",
              "    }\n",
              "</style>\n",
              "<table border=\"1\" class=\"dataframe\">\n",
              "  <thead>\n",
              "    <tr style=\"text-align: right;\">\n",
              "      <th></th>\n",
              "      <th>latitude_start_r</th>\n",
              "      <th>longitude_start_r</th>\n",
              "      <th>date</th>\n",
              "      <th>hour</th>\n",
              "      <th>trips</th>\n",
              "      <th>datetime</th>\n",
              "    </tr>\n",
              "  </thead>\n",
              "  <tbody>\n",
              "    <tr>\n",
              "      <th>0</th>\n",
              "      <td>40.41</td>\n",
              "      <td>-3.71</td>\n",
              "      <td>2022-06-11</td>\n",
              "      <td>0</td>\n",
              "      <td>0</td>\n",
              "      <td>2022-06-11 00</td>\n",
              "    </tr>\n",
              "    <tr>\n",
              "      <th>1</th>\n",
              "      <td>40.41</td>\n",
              "      <td>-3.71</td>\n",
              "      <td>2022-06-11</td>\n",
              "      <td>1</td>\n",
              "      <td>0</td>\n",
              "      <td>2022-06-11 01</td>\n",
              "    </tr>\n",
              "    <tr>\n",
              "      <th>2</th>\n",
              "      <td>40.41</td>\n",
              "      <td>-3.71</td>\n",
              "      <td>2022-06-11</td>\n",
              "      <td>2</td>\n",
              "      <td>0</td>\n",
              "      <td>2022-06-11 02</td>\n",
              "    </tr>\n",
              "    <tr>\n",
              "      <th>3</th>\n",
              "      <td>40.41</td>\n",
              "      <td>-3.71</td>\n",
              "      <td>2022-06-11</td>\n",
              "      <td>3</td>\n",
              "      <td>0</td>\n",
              "      <td>2022-06-11 03</td>\n",
              "    </tr>\n",
              "    <tr>\n",
              "      <th>4</th>\n",
              "      <td>40.41</td>\n",
              "      <td>-3.71</td>\n",
              "      <td>2022-06-11</td>\n",
              "      <td>4</td>\n",
              "      <td>0</td>\n",
              "      <td>2022-06-11 04</td>\n",
              "    </tr>\n",
              "    <tr>\n",
              "      <th>...</th>\n",
              "      <td>...</td>\n",
              "      <td>...</td>\n",
              "      <td>...</td>\n",
              "      <td>...</td>\n",
              "      <td>...</td>\n",
              "      <td>...</td>\n",
              "    </tr>\n",
              "    <tr>\n",
              "      <th>289291</th>\n",
              "      <td>40.38</td>\n",
              "      <td>-3.60</td>\n",
              "      <td>2022-08-31</td>\n",
              "      <td>19</td>\n",
              "      <td>0</td>\n",
              "      <td>2022-08-31 19</td>\n",
              "    </tr>\n",
              "    <tr>\n",
              "      <th>289292</th>\n",
              "      <td>40.38</td>\n",
              "      <td>-3.60</td>\n",
              "      <td>2022-08-31</td>\n",
              "      <td>20</td>\n",
              "      <td>0</td>\n",
              "      <td>2022-08-31 20</td>\n",
              "    </tr>\n",
              "    <tr>\n",
              "      <th>289293</th>\n",
              "      <td>40.38</td>\n",
              "      <td>-3.60</td>\n",
              "      <td>2022-08-31</td>\n",
              "      <td>21</td>\n",
              "      <td>0</td>\n",
              "      <td>2022-08-31 21</td>\n",
              "    </tr>\n",
              "    <tr>\n",
              "      <th>289294</th>\n",
              "      <td>40.38</td>\n",
              "      <td>-3.60</td>\n",
              "      <td>2022-08-31</td>\n",
              "      <td>22</td>\n",
              "      <td>0</td>\n",
              "      <td>2022-08-31 22</td>\n",
              "    </tr>\n",
              "    <tr>\n",
              "      <th>289295</th>\n",
              "      <td>40.38</td>\n",
              "      <td>-3.60</td>\n",
              "      <td>2022-08-31</td>\n",
              "      <td>23</td>\n",
              "      <td>0</td>\n",
              "      <td>2022-08-31 23</td>\n",
              "    </tr>\n",
              "  </tbody>\n",
              "</table>\n",
              "<p>289296 rows × 6 columns</p>\n",
              "</div>\n",
              "      <button class=\"colab-df-convert\" onclick=\"convertToInteractive('df-b6bbe0fd-bbe3-4d03-9041-62073103bba7')\"\n",
              "              title=\"Convert this dataframe to an interactive table.\"\n",
              "              style=\"display:none;\">\n",
              "        \n",
              "  <svg xmlns=\"http://www.w3.org/2000/svg\" height=\"24px\"viewBox=\"0 0 24 24\"\n",
              "       width=\"24px\">\n",
              "    <path d=\"M0 0h24v24H0V0z\" fill=\"none\"/>\n",
              "    <path d=\"M18.56 5.44l.94 2.06.94-2.06 2.06-.94-2.06-.94-.94-2.06-.94 2.06-2.06.94zm-11 1L8.5 8.5l.94-2.06 2.06-.94-2.06-.94L8.5 2.5l-.94 2.06-2.06.94zm10 10l.94 2.06.94-2.06 2.06-.94-2.06-.94-.94-2.06-.94 2.06-2.06.94z\"/><path d=\"M17.41 7.96l-1.37-1.37c-.4-.4-.92-.59-1.43-.59-.52 0-1.04.2-1.43.59L10.3 9.45l-7.72 7.72c-.78.78-.78 2.05 0 2.83L4 21.41c.39.39.9.59 1.41.59.51 0 1.02-.2 1.41-.59l7.78-7.78 2.81-2.81c.8-.78.8-2.07 0-2.86zM5.41 20L4 18.59l7.72-7.72 1.47 1.35L5.41 20z\"/>\n",
              "  </svg>\n",
              "      </button>\n",
              "      \n",
              "  <style>\n",
              "    .colab-df-container {\n",
              "      display:flex;\n",
              "      flex-wrap:wrap;\n",
              "      gap: 12px;\n",
              "    }\n",
              "\n",
              "    .colab-df-convert {\n",
              "      background-color: #E8F0FE;\n",
              "      border: none;\n",
              "      border-radius: 50%;\n",
              "      cursor: pointer;\n",
              "      display: none;\n",
              "      fill: #1967D2;\n",
              "      height: 32px;\n",
              "      padding: 0 0 0 0;\n",
              "      width: 32px;\n",
              "    }\n",
              "\n",
              "    .colab-df-convert:hover {\n",
              "      background-color: #E2EBFA;\n",
              "      box-shadow: 0px 1px 2px rgba(60, 64, 67, 0.3), 0px 1px 3px 1px rgba(60, 64, 67, 0.15);\n",
              "      fill: #174EA6;\n",
              "    }\n",
              "\n",
              "    [theme=dark] .colab-df-convert {\n",
              "      background-color: #3B4455;\n",
              "      fill: #D2E3FC;\n",
              "    }\n",
              "\n",
              "    [theme=dark] .colab-df-convert:hover {\n",
              "      background-color: #434B5C;\n",
              "      box-shadow: 0px 1px 3px 1px rgba(0, 0, 0, 0.15);\n",
              "      filter: drop-shadow(0px 1px 2px rgba(0, 0, 0, 0.3));\n",
              "      fill: #FFFFFF;\n",
              "    }\n",
              "  </style>\n",
              "\n",
              "      <script>\n",
              "        const buttonEl =\n",
              "          document.querySelector('#df-b6bbe0fd-bbe3-4d03-9041-62073103bba7 button.colab-df-convert');\n",
              "        buttonEl.style.display =\n",
              "          google.colab.kernel.accessAllowed ? 'block' : 'none';\n",
              "\n",
              "        async function convertToInteractive(key) {\n",
              "          const element = document.querySelector('#df-b6bbe0fd-bbe3-4d03-9041-62073103bba7');\n",
              "          const dataTable =\n",
              "            await google.colab.kernel.invokeFunction('convertToInteractive',\n",
              "                                                     [key], {});\n",
              "          if (!dataTable) return;\n",
              "\n",
              "          const docLinkHtml = 'Like what you see? Visit the ' +\n",
              "            '<a target=\"_blank\" href=https://colab.research.google.com/notebooks/data_table.ipynb>data table notebook</a>'\n",
              "            + ' to learn more about interactive tables.';\n",
              "          element.innerHTML = '';\n",
              "          dataTable['output_type'] = 'display_data';\n",
              "          await google.colab.output.renderOutput(dataTable, element);\n",
              "          const docLink = document.createElement('div');\n",
              "          docLink.innerHTML = docLinkHtml;\n",
              "          element.appendChild(docLink);\n",
              "        }\n",
              "      </script>\n",
              "    </div>\n",
              "  </div>\n",
              "  "
            ]
          },
          "metadata": {},
          "execution_count": 13
        }
      ]
    },
    {
      "cell_type": "code",
      "source": [
        "#Select a interesting point of data\n",
        "df_ts_trendy =  df_ts[ (df_ts.latitude_start_r == 40.44) & (df_ts.longitude_start_r == -3.68)]\n",
        "df_ts_trendy"
      ],
      "metadata": {
        "colab": {
          "base_uri": "https://localhost:8080/",
          "height": 423
        },
        "id": "0p3uKArKA-2D",
        "outputId": "e91897b7-8114-4239-8602-30666600be13"
      },
      "execution_count": 14,
      "outputs": [
        {
          "output_type": "execute_result",
          "data": {
            "text/plain": [
              "       latitude_start_r  longitude_start_r       date  hour  trips  \\\n",
              "80688             40.44              -3.68 2022-06-11     0      0   \n",
              "80689             40.44              -3.68 2022-06-11     1      0   \n",
              "80690             40.44              -3.68 2022-06-11     2      0   \n",
              "80691             40.44              -3.68 2022-06-11     3      0   \n",
              "80692             40.44              -3.68 2022-06-11     4      0   \n",
              "...                 ...                ...        ...   ...    ...   \n",
              "82651             40.44              -3.68 2022-08-31    19      0   \n",
              "82652             40.44              -3.68 2022-08-31    20      0   \n",
              "82653             40.44              -3.68 2022-08-31    21      0   \n",
              "82654             40.44              -3.68 2022-08-31    22      0   \n",
              "82655             40.44              -3.68 2022-08-31    23      0   \n",
              "\n",
              "            datetime  \n",
              "80688  2022-06-11 00  \n",
              "80689  2022-06-11 01  \n",
              "80690  2022-06-11 02  \n",
              "80691  2022-06-11 03  \n",
              "80692  2022-06-11 04  \n",
              "...              ...  \n",
              "82651  2022-08-31 19  \n",
              "82652  2022-08-31 20  \n",
              "82653  2022-08-31 21  \n",
              "82654  2022-08-31 22  \n",
              "82655  2022-08-31 23  \n",
              "\n",
              "[1968 rows x 6 columns]"
            ],
            "text/html": [
              "\n",
              "  <div id=\"df-39669ef6-7423-49cc-9765-4d2eaa90020d\">\n",
              "    <div class=\"colab-df-container\">\n",
              "      <div>\n",
              "<style scoped>\n",
              "    .dataframe tbody tr th:only-of-type {\n",
              "        vertical-align: middle;\n",
              "    }\n",
              "\n",
              "    .dataframe tbody tr th {\n",
              "        vertical-align: top;\n",
              "    }\n",
              "\n",
              "    .dataframe thead th {\n",
              "        text-align: right;\n",
              "    }\n",
              "</style>\n",
              "<table border=\"1\" class=\"dataframe\">\n",
              "  <thead>\n",
              "    <tr style=\"text-align: right;\">\n",
              "      <th></th>\n",
              "      <th>latitude_start_r</th>\n",
              "      <th>longitude_start_r</th>\n",
              "      <th>date</th>\n",
              "      <th>hour</th>\n",
              "      <th>trips</th>\n",
              "      <th>datetime</th>\n",
              "    </tr>\n",
              "  </thead>\n",
              "  <tbody>\n",
              "    <tr>\n",
              "      <th>80688</th>\n",
              "      <td>40.44</td>\n",
              "      <td>-3.68</td>\n",
              "      <td>2022-06-11</td>\n",
              "      <td>0</td>\n",
              "      <td>0</td>\n",
              "      <td>2022-06-11 00</td>\n",
              "    </tr>\n",
              "    <tr>\n",
              "      <th>80689</th>\n",
              "      <td>40.44</td>\n",
              "      <td>-3.68</td>\n",
              "      <td>2022-06-11</td>\n",
              "      <td>1</td>\n",
              "      <td>0</td>\n",
              "      <td>2022-06-11 01</td>\n",
              "    </tr>\n",
              "    <tr>\n",
              "      <th>80690</th>\n",
              "      <td>40.44</td>\n",
              "      <td>-3.68</td>\n",
              "      <td>2022-06-11</td>\n",
              "      <td>2</td>\n",
              "      <td>0</td>\n",
              "      <td>2022-06-11 02</td>\n",
              "    </tr>\n",
              "    <tr>\n",
              "      <th>80691</th>\n",
              "      <td>40.44</td>\n",
              "      <td>-3.68</td>\n",
              "      <td>2022-06-11</td>\n",
              "      <td>3</td>\n",
              "      <td>0</td>\n",
              "      <td>2022-06-11 03</td>\n",
              "    </tr>\n",
              "    <tr>\n",
              "      <th>80692</th>\n",
              "      <td>40.44</td>\n",
              "      <td>-3.68</td>\n",
              "      <td>2022-06-11</td>\n",
              "      <td>4</td>\n",
              "      <td>0</td>\n",
              "      <td>2022-06-11 04</td>\n",
              "    </tr>\n",
              "    <tr>\n",
              "      <th>...</th>\n",
              "      <td>...</td>\n",
              "      <td>...</td>\n",
              "      <td>...</td>\n",
              "      <td>...</td>\n",
              "      <td>...</td>\n",
              "      <td>...</td>\n",
              "    </tr>\n",
              "    <tr>\n",
              "      <th>82651</th>\n",
              "      <td>40.44</td>\n",
              "      <td>-3.68</td>\n",
              "      <td>2022-08-31</td>\n",
              "      <td>19</td>\n",
              "      <td>0</td>\n",
              "      <td>2022-08-31 19</td>\n",
              "    </tr>\n",
              "    <tr>\n",
              "      <th>82652</th>\n",
              "      <td>40.44</td>\n",
              "      <td>-3.68</td>\n",
              "      <td>2022-08-31</td>\n",
              "      <td>20</td>\n",
              "      <td>0</td>\n",
              "      <td>2022-08-31 20</td>\n",
              "    </tr>\n",
              "    <tr>\n",
              "      <th>82653</th>\n",
              "      <td>40.44</td>\n",
              "      <td>-3.68</td>\n",
              "      <td>2022-08-31</td>\n",
              "      <td>21</td>\n",
              "      <td>0</td>\n",
              "      <td>2022-08-31 21</td>\n",
              "    </tr>\n",
              "    <tr>\n",
              "      <th>82654</th>\n",
              "      <td>40.44</td>\n",
              "      <td>-3.68</td>\n",
              "      <td>2022-08-31</td>\n",
              "      <td>22</td>\n",
              "      <td>0</td>\n",
              "      <td>2022-08-31 22</td>\n",
              "    </tr>\n",
              "    <tr>\n",
              "      <th>82655</th>\n",
              "      <td>40.44</td>\n",
              "      <td>-3.68</td>\n",
              "      <td>2022-08-31</td>\n",
              "      <td>23</td>\n",
              "      <td>0</td>\n",
              "      <td>2022-08-31 23</td>\n",
              "    </tr>\n",
              "  </tbody>\n",
              "</table>\n",
              "<p>1968 rows × 6 columns</p>\n",
              "</div>\n",
              "      <button class=\"colab-df-convert\" onclick=\"convertToInteractive('df-39669ef6-7423-49cc-9765-4d2eaa90020d')\"\n",
              "              title=\"Convert this dataframe to an interactive table.\"\n",
              "              style=\"display:none;\">\n",
              "        \n",
              "  <svg xmlns=\"http://www.w3.org/2000/svg\" height=\"24px\"viewBox=\"0 0 24 24\"\n",
              "       width=\"24px\">\n",
              "    <path d=\"M0 0h24v24H0V0z\" fill=\"none\"/>\n",
              "    <path d=\"M18.56 5.44l.94 2.06.94-2.06 2.06-.94-2.06-.94-.94-2.06-.94 2.06-2.06.94zm-11 1L8.5 8.5l.94-2.06 2.06-.94-2.06-.94L8.5 2.5l-.94 2.06-2.06.94zm10 10l.94 2.06.94-2.06 2.06-.94-2.06-.94-.94-2.06-.94 2.06-2.06.94z\"/><path d=\"M17.41 7.96l-1.37-1.37c-.4-.4-.92-.59-1.43-.59-.52 0-1.04.2-1.43.59L10.3 9.45l-7.72 7.72c-.78.78-.78 2.05 0 2.83L4 21.41c.39.39.9.59 1.41.59.51 0 1.02-.2 1.41-.59l7.78-7.78 2.81-2.81c.8-.78.8-2.07 0-2.86zM5.41 20L4 18.59l7.72-7.72 1.47 1.35L5.41 20z\"/>\n",
              "  </svg>\n",
              "      </button>\n",
              "      \n",
              "  <style>\n",
              "    .colab-df-container {\n",
              "      display:flex;\n",
              "      flex-wrap:wrap;\n",
              "      gap: 12px;\n",
              "    }\n",
              "\n",
              "    .colab-df-convert {\n",
              "      background-color: #E8F0FE;\n",
              "      border: none;\n",
              "      border-radius: 50%;\n",
              "      cursor: pointer;\n",
              "      display: none;\n",
              "      fill: #1967D2;\n",
              "      height: 32px;\n",
              "      padding: 0 0 0 0;\n",
              "      width: 32px;\n",
              "    }\n",
              "\n",
              "    .colab-df-convert:hover {\n",
              "      background-color: #E2EBFA;\n",
              "      box-shadow: 0px 1px 2px rgba(60, 64, 67, 0.3), 0px 1px 3px 1px rgba(60, 64, 67, 0.15);\n",
              "      fill: #174EA6;\n",
              "    }\n",
              "\n",
              "    [theme=dark] .colab-df-convert {\n",
              "      background-color: #3B4455;\n",
              "      fill: #D2E3FC;\n",
              "    }\n",
              "\n",
              "    [theme=dark] .colab-df-convert:hover {\n",
              "      background-color: #434B5C;\n",
              "      box-shadow: 0px 1px 3px 1px rgba(0, 0, 0, 0.15);\n",
              "      filter: drop-shadow(0px 1px 2px rgba(0, 0, 0, 0.3));\n",
              "      fill: #FFFFFF;\n",
              "    }\n",
              "  </style>\n",
              "\n",
              "      <script>\n",
              "        const buttonEl =\n",
              "          document.querySelector('#df-39669ef6-7423-49cc-9765-4d2eaa90020d button.colab-df-convert');\n",
              "        buttonEl.style.display =\n",
              "          google.colab.kernel.accessAllowed ? 'block' : 'none';\n",
              "\n",
              "        async function convertToInteractive(key) {\n",
              "          const element = document.querySelector('#df-39669ef6-7423-49cc-9765-4d2eaa90020d');\n",
              "          const dataTable =\n",
              "            await google.colab.kernel.invokeFunction('convertToInteractive',\n",
              "                                                     [key], {});\n",
              "          if (!dataTable) return;\n",
              "\n",
              "          const docLinkHtml = 'Like what you see? Visit the ' +\n",
              "            '<a target=\"_blank\" href=https://colab.research.google.com/notebooks/data_table.ipynb>data table notebook</a>'\n",
              "            + ' to learn more about interactive tables.';\n",
              "          element.innerHTML = '';\n",
              "          dataTable['output_type'] = 'display_data';\n",
              "          await google.colab.output.renderOutput(dataTable, element);\n",
              "          const docLink = document.createElement('div');\n",
              "          docLink.innerHTML = docLinkHtml;\n",
              "          element.appendChild(docLink);\n",
              "        }\n",
              "      </script>\n",
              "    </div>\n",
              "  </div>\n",
              "  "
            ]
          },
          "metadata": {},
          "execution_count": 14
        }
      ]
    },
    {
      "cell_type": "code",
      "source": [
        "df_ts_trendy.dtypes"
      ],
      "metadata": {
        "colab": {
          "base_uri": "https://localhost:8080/"
        },
        "id": "kYjWeXh1KVzy",
        "outputId": "ad4cbf00-45b4-4ac7-fdb0-48834363001f"
      },
      "execution_count": 15,
      "outputs": [
        {
          "output_type": "execute_result",
          "data": {
            "text/plain": [
              "latitude_start_r            float64\n",
              "longitude_start_r           float64\n",
              "date                 datetime64[ns]\n",
              "hour                          int64\n",
              "trips                         int64\n",
              "datetime                     object\n",
              "dtype: object"
            ]
          },
          "metadata": {},
          "execution_count": 15
        }
      ]
    },
    {
      "cell_type": "code",
      "source": [
        "#Select a interesting point of data\n",
        "df_ts_trendy =  df_ts[ (df_ts.latitude_start_r == 40.44) & (df_ts.longitude_start_r == -3.68)]"
      ],
      "metadata": {
        "id": "bloZ3txcgH46"
      },
      "execution_count": 16,
      "outputs": []
    },
    {
      "cell_type": "markdown",
      "source": [
        "# Time Series"
      ],
      "metadata": {
        "id": "lLaVRCBFAtPs"
      }
    },
    {
      "cell_type": "code",
      "source": [
        "#Import libraries to analyze using autocorrelation plots\n",
        "from statsmodels.graphics.tsaplots import plot_acf\n",
        "from statsmodels.graphics.tsaplots import plot_pacf"
      ],
      "metadata": {
        "id": "lNycBL78Ahjg"
      },
      "execution_count": 17,
      "outputs": []
    },
    {
      "cell_type": "code",
      "source": [
        "#Set the column datetime as index and sort the dataset by datetime ascendent\n",
        "df_ts_trendy.set_index('datetime', inplace=True)\n",
        "df_ts_trendy.sort_index(inplace=True)"
      ],
      "metadata": {
        "id": "0yRTqTx8H7ur"
      },
      "execution_count": 18,
      "outputs": []
    },
    {
      "cell_type": "code",
      "source": [
        "fig, ax = plt.subplots(figsize=(20, 3))\n",
        "xpoints = df_ts_trendy['date']\n",
        "ypoints = df_ts_trendy['trips']\n",
        "\n",
        "plt.plot(xpoints, ypoints)\n",
        "plt.show()"
      ],
      "metadata": {
        "colab": {
          "base_uri": "https://localhost:8080/",
          "height": 211
        },
        "id": "mlKKUKwJpnDa",
        "outputId": "22d41739-2c25-4e77-dec5-a34ad5e80a62"
      },
      "execution_count": 21,
      "outputs": [
        {
          "output_type": "display_data",
          "data": {
            "text/plain": [
              "<Figure size 1440x216 with 1 Axes>"
            ],
            "image/png": "[encoded data removed]"
          },
          "metadata": {
            "needs_background": "light"
          }
        }
      ]
    },
    {
      "cell_type": "code",
      "source": [
        "fig, ax = plt.subplots(figsize=(10, 3))\n",
        "plot_acf(df_ts_trendy.trips, ax=ax, lags=7*24)\n",
        "plt.show()"
      ],
      "metadata": {
        "colab": {
          "base_uri": "https://localhost:8080/",
          "height": 227
        },
        "id": "6A0m2ppPAm4J",
        "outputId": "770d9b2e-1a6c-437c-912d-a7dc00b5f499"
      },
      "execution_count": 22,
      "outputs": [
        {
          "output_type": "display_data",
          "data": {
            "text/plain": [
              "<Figure size 720x216 with 1 Axes>"
            ],
            "image/png": "[encoded data removed]"
          },
          "metadata": {
            "needs_background": "light"
          }
        }
      ]
    },
    {
      "cell_type": "code",
      "source": [
        "fig, ax = plt.subplots(figsize=(20, 3))\n",
        "plot_pacf(df_ts_trendy.trips, ax=ax, lags=7*24)\n",
        "plt.show()"
      ],
      "metadata": {
        "colab": {
          "base_uri": "https://localhost:8080/",
          "height": 227
        },
        "id": "4ynkt95lAm_W",
        "outputId": "104282b9-3783-40a8-fe49-3043e1e22ae0"
      },
      "execution_count": 23,
      "outputs": [
        {
          "output_type": "display_data",
          "data": {
            "text/plain": [
              "<Figure size 1440x216 with 1 Axes>"
            ],
            "image/png": "[encoded data removed]"
          },
          "metadata": {
            "needs_background": "light"
          }
        }
      ]
    },
    {
      "cell_type": "markdown",
      "source": [
        "As we can see in acf and pacf there is not a big correlation between the demand the day before or the demand 7 days before"
      ],
      "metadata": {
        "id": "5Bsi5QFwM2jN"
      }
    },
    {
      "cell_type": "markdown",
      "source": [
        "# Time series - Grouped"
      ],
      "metadata": {
        "id": "1itmY99ENiGg"
      }
    },
    {
      "cell_type": "markdown",
      "source": [
        "Now check if at least there is a correlation between all day data"
      ],
      "metadata": {
        "id": "Kpbuf9nANlUf"
      }
    },
    {
      "cell_type": "code",
      "source": [
        "df_ts.groupby(['datetime'])['trips'].sum().reset_index()"
      ],
      "metadata": {
        "colab": {
          "base_uri": "https://localhost:8080/",
          "height": 423
        },
        "id": "_oBFI2C1NhPZ",
        "outputId": "ad46c166-36b3-4a8e-87da-3b56aa98232e"
      },
      "execution_count": 24,
      "outputs": [
        {
          "output_type": "execute_result",
          "data": {
            "text/plain": [
              "           datetime  trips\n",
              "0     2022-06-11 00      0\n",
              "1     2022-06-11 01      0\n",
              "2     2022-06-11 02      0\n",
              "3     2022-06-11 03      0\n",
              "4     2022-06-11 04      0\n",
              "...             ...    ...\n",
              "1963  2022-08-31 19      0\n",
              "1964  2022-08-31 20      0\n",
              "1965  2022-08-31 21      0\n",
              "1966  2022-08-31 22      0\n",
              "1967  2022-08-31 23      0\n",
              "\n",
              "[1968 rows x 2 columns]"
            ],
            "text/html": [
              "\n",
              "  <div id=\"df-9512c433-e659-4109-b4ff-719d12061f5e\">\n",
              "    <div class=\"colab-df-container\">\n",
              "      <div>\n",
              "<style scoped>\n",
              "    .dataframe tbody tr th:only-of-type {\n",
              "        vertical-align: middle;\n",
              "    }\n",
              "\n",
              "    .dataframe tbody tr th {\n",
              "        vertical-align: top;\n",
              "    }\n",
              "\n",
              "    .dataframe thead th {\n",
              "        text-align: right;\n",
              "    }\n",
              "</style>\n",
              "<table border=\"1\" class=\"dataframe\">\n",
              "  <thead>\n",
              "    <tr style=\"text-align: right;\">\n",
              "      <th></th>\n",
              "      <th>datetime</th>\n",
              "      <th>trips</th>\n",
              "    </tr>\n",
              "  </thead>\n",
              "  <tbody>\n",
              "    <tr>\n",
              "      <th>0</th>\n",
              "      <td>2022-06-11 00</td>\n",
              "      <td>0</td>\n",
              "    </tr>\n",
              "    <tr>\n",
              "      <th>1</th>\n",
              "      <td>2022-06-11 01</td>\n",
              "      <td>0</td>\n",
              "    </tr>\n",
              "    <tr>\n",
              "      <th>2</th>\n",
              "      <td>2022-06-11 02</td>\n",
              "      <td>0</td>\n",
              "    </tr>\n",
              "    <tr>\n",
              "      <th>3</th>\n",
              "      <td>2022-06-11 03</td>\n",
              "      <td>0</td>\n",
              "    </tr>\n",
              "    <tr>\n",
              "      <th>4</th>\n",
              "      <td>2022-06-11 04</td>\n",
              "      <td>0</td>\n",
              "    </tr>\n",
              "    <tr>\n",
              "      <th>...</th>\n",
              "      <td>...</td>\n",
              "      <td>...</td>\n",
              "    </tr>\n",
              "    <tr>\n",
              "      <th>1963</th>\n",
              "      <td>2022-08-31 19</td>\n",
              "      <td>0</td>\n",
              "    </tr>\n",
              "    <tr>\n",
              "      <th>1964</th>\n",
              "      <td>2022-08-31 20</td>\n",
              "      <td>0</td>\n",
              "    </tr>\n",
              "    <tr>\n",
              "      <th>1965</th>\n",
              "      <td>2022-08-31 21</td>\n",
              "      <td>0</td>\n",
              "    </tr>\n",
              "    <tr>\n",
              "      <th>1966</th>\n",
              "      <td>2022-08-31 22</td>\n",
              "      <td>0</td>\n",
              "    </tr>\n",
              "    <tr>\n",
              "      <th>1967</th>\n",
              "      <td>2022-08-31 23</td>\n",
              "      <td>0</td>\n",
              "    </tr>\n",
              "  </tbody>\n",
              "</table>\n",
              "<p>1968 rows × 2 columns</p>\n",
              "</div>\n",
              "      <button class=\"colab-df-convert\" onclick=\"convertToInteractive('df-9512c433-e659-4109-b4ff-719d12061f5e')\"\n",
              "              title=\"Convert this dataframe to an interactive table.\"\n",
              "              style=\"display:none;\">\n",
              "        \n",
              "  <svg xmlns=\"http://www.w3.org/2000/svg\" height=\"24px\"viewBox=\"0 0 24 24\"\n",
              "       width=\"24px\">\n",
              "    <path d=\"M0 0h24v24H0V0z\" fill=\"none\"/>\n",
              "    <path d=\"M18.56 5.44l.94 2.06.94-2.06 2.06-.94-2.06-.94-.94-2.06-.94 2.06-2.06.94zm-11 1L8.5 8.5l.94-2.06 2.06-.94-2.06-.94L8.5 2.5l-.94 2.06-2.06.94zm10 10l.94 2.06.94-2.06 2.06-.94-2.06-.94-.94-2.06-.94 2.06-2.06.94z\"/><path d=\"M17.41 7.96l-1.37-1.37c-.4-.4-.92-.59-1.43-.59-.52 0-1.04.2-1.43.59L10.3 9.45l-7.72 7.72c-.78.78-.78 2.05 0 2.83L4 21.41c.39.39.9.59 1.41.59.51 0 1.02-.2 1.41-.59l7.78-7.78 2.81-2.81c.8-.78.8-2.07 0-2.86zM5.41 20L4 18.59l7.72-7.72 1.47 1.35L5.41 20z\"/>\n",
              "  </svg>\n",
              "      </button>\n",
              "      \n",
              "  <style>\n",
              "    .colab-df-container {\n",
              "      display:flex;\n",
              "      flex-wrap:wrap;\n",
              "      gap: 12px;\n",
              "    }\n",
              "\n",
              "    .colab-df-convert {\n",
              "      background-color: #E8F0FE;\n",
              "      border: none;\n",
              "      border-radius: 50%;\n",
              "      cursor: pointer;\n",
              "      display: none;\n",
              "      fill: #1967D2;\n",
              "      height: 32px;\n",
              "      padding: 0 0 0 0;\n",
              "      width: 32px;\n",
              "    }\n",
              "\n",
              "    .colab-df-convert:hover {\n",
              "      background-color: #E2EBFA;\n",
              "      box-shadow: 0px 1px 2px rgba(60, 64, 67, 0.3), 0px 1px 3px 1px rgba(60, 64, 67, 0.15);\n",
              "      fill: #174EA6;\n",
              "    }\n",
              "\n",
              "    [theme=dark] .colab-df-convert {\n",
              "      background-color: #3B4455;\n",
              "      fill: #D2E3FC;\n",
              "    }\n",
              "\n",
              "    [theme=dark] .colab-df-convert:hover {\n",
              "      background-color: #434B5C;\n",
              "      box-shadow: 0px 1px 3px 1px rgba(0, 0, 0, 0.15);\n",
              "      filter: drop-shadow(0px 1px 2px rgba(0, 0, 0, 0.3));\n",
              "      fill: #FFFFFF;\n",
              "    }\n",
              "  </style>\n",
              "\n",
              "      <script>\n",
              "        const buttonEl =\n",
              "          document.querySelector('#df-9512c433-e659-4109-b4ff-719d12061f5e button.colab-df-convert');\n",
              "        buttonEl.style.display =\n",
              "          google.colab.kernel.accessAllowed ? 'block' : 'none';\n",
              "\n",
              "        async function convertToInteractive(key) {\n",
              "          const element = document.querySelector('#df-9512c433-e659-4109-b4ff-719d12061f5e');\n",
              "          const dataTable =\n",
              "            await google.colab.kernel.invokeFunction('convertToInteractive',\n",
              "                                                     [key], {});\n",
              "          if (!dataTable) return;\n",
              "\n",
              "          const docLinkHtml = 'Like what you see? Visit the ' +\n",
              "            '<a target=\"_blank\" href=https://colab.research.google.com/notebooks/data_table.ipynb>data table notebook</a>'\n",
              "            + ' to learn more about interactive tables.';\n",
              "          element.innerHTML = '';\n",
              "          dataTable['output_type'] = 'display_data';\n",
              "          await google.colab.output.renderOutput(dataTable, element);\n",
              "          const docLink = document.createElement('div');\n",
              "          docLink.innerHTML = docLinkHtml;\n",
              "          element.appendChild(docLink);\n",
              "        }\n",
              "      </script>\n",
              "    </div>\n",
              "  </div>\n",
              "  "
            ]
          },
          "metadata": {},
          "execution_count": 24
        }
      ]
    },
    {
      "cell_type": "code",
      "source": [
        "#Set the column datetime as index and sort the dataset by datetime ascendent\n",
        "df_ts.set_index('datetime', inplace=True)\n",
        "df_ts.sort_index(inplace=True)"
      ],
      "metadata": {
        "id": "LEkP9yzCOfKE"
      },
      "execution_count": 25,
      "outputs": []
    },
    {
      "cell_type": "code",
      "source": [
        "fig, ax = plt.subplots(figsize=(10, 3))\n",
        "plot_acf(df_ts_trendy.trips, ax=ax, lags=7*24)\n",
        "plt.show()"
      ],
      "metadata": {
        "colab": {
          "base_uri": "https://localhost:8080/",
          "height": 227
        },
        "id": "EfbMOY6GOo44",
        "outputId": "044ce9a5-c08d-49d0-caeb-1ff65f3e9da0"
      },
      "execution_count": 26,
      "outputs": [
        {
          "output_type": "display_data",
          "data": {
            "text/plain": [
              "<Figure size 720x216 with 1 Axes>"
            ],
            "image/png": "[encoded data removed]"
          },
          "metadata": {
            "needs_background": "light"
          }
        }
      ]
    },
    {
      "cell_type": "code",
      "source": [
        "fig, ax = plt.subplots(figsize=(20, 3))\n",
        "plot_pacf(df_ts_trendy.trips, ax=ax, lags=7*24)\n",
        "plt.show()"
      ],
      "metadata": {
        "colab": {
          "base_uri": "https://localhost:8080/",
          "height": 227
        },
        "id": "fuL50WiTOqb9",
        "outputId": "59aa063d-adfe-4bff-c981-0f7a90820f01"
      },
      "execution_count": 27,
      "outputs": [
        {
          "output_type": "display_data",
          "data": {
            "text/plain": [
              "<Figure size 1440x216 with 1 Axes>"
            ],
            "image/png": "[encoded data removed]"
          },
          "metadata": {
            "needs_background": "light"
          }
        }
      ]
    },
    {
      "cell_type": "markdown",
      "source": [
        "# Time series - Only true/false"
      ],
      "metadata": {
        "id": "HfmILfzZfIqd"
      }
    },
    {
      "cell_type": "code",
      "source": [
        "query = \"\"\"\n",
        "SELECT \n",
        "    latitude_start_r,\n",
        "    longitude_start_r,\n",
        "    hour,\n",
        "    date,\n",
        "    CASE WHEN trips >0 THEN True ELSE  False END AS  exist_trip  \n",
        "  FROM `vacio-276411.mainDataset.V2_model_data_latlon2_hour_trips_MADRID`\n",
        "\"\"\"\n",
        "df_true_false = client.query(query).to_dataframe()"
      ],
      "metadata": {
        "id": "8ykvWjqjfJtQ"
      },
      "execution_count": 28,
      "outputs": []
    },
    {
      "cell_type": "code",
      "source": [
        "##Convert latitude and longitude to number\n",
        "df_true_false['latitude_start_r'] = df_true_false['latitude_start_r'].astype(str).astype(float)\n",
        "df_true_false['longitude_start_r'] = df_true_false['longitude_start_r'].astype(str).astype(float)\n",
        "#Convert date colum to datetime type\n",
        "df_true_false[\"date\"] = pd.to_datetime(df_true_false[\"date\"], format='%Y-%m-%d')"
      ],
      "metadata": {
        "id": "t5sj4Im7iwYW"
      },
      "execution_count": 29,
      "outputs": []
    },
    {
      "cell_type": "code",
      "source": [
        "df_true_false.dtypes"
      ],
      "metadata": {
        "colab": {
          "base_uri": "https://localhost:8080/"
        },
        "id": "r7BnNpZudAUB",
        "outputId": "3bb23113-bafe-42a8-adc3-d8eb9dabba49"
      },
      "execution_count": 30,
      "outputs": [
        {
          "output_type": "execute_result",
          "data": {
            "text/plain": [
              "latitude_start_r            float64\n",
              "longitude_start_r           float64\n",
              "hour                          int64\n",
              "date                 datetime64[ns]\n",
              "exist_trip                     bool\n",
              "dtype: object"
            ]
          },
          "metadata": {},
          "execution_count": 30
        }
      ]
    },
    {
      "cell_type": "code",
      "source": [
        "#Create datetime colum\n",
        "df_true_false[\"datetime\"]  = df_true_false[\"date\"].dt.strftime('%Y-%m-%d') + \" \" + df_true_false[\"hour\"].apply(str).str.zfill(2)\n",
        "pd.to_datetime(df_true_false[\"datetime\"])\n",
        "df_true_false"
      ],
      "metadata": {
        "colab": {
          "base_uri": "https://localhost:8080/",
          "height": 423
        },
        "id": "MFPXSQLhizGD",
        "outputId": "a18c846c-6fbd-42c6-d243-557503247219"
      },
      "execution_count": 31,
      "outputs": [
        {
          "output_type": "execute_result",
          "data": {
            "text/plain": [
              "        latitude_start_r  longitude_start_r  hour       date  exist_trip  \\\n",
              "0                  40.43              -3.70     0 2022-06-11       False   \n",
              "1                  40.43              -3.70     1 2022-06-11       False   \n",
              "2                  40.43              -3.70     2 2022-06-11       False   \n",
              "3                  40.43              -3.70     3 2022-06-11       False   \n",
              "4                  40.43              -3.70     4 2022-06-11       False   \n",
              "...                  ...                ...   ...        ...         ...   \n",
              "289291             40.49              -3.68    19 2022-08-31       False   \n",
              "289292             40.49              -3.68    20 2022-08-31       False   \n",
              "289293             40.49              -3.68    21 2022-08-31       False   \n",
              "289294             40.49              -3.68    22 2022-08-31       False   \n",
              "289295             40.49              -3.68    23 2022-08-31       False   \n",
              "\n",
              "             datetime  \n",
              "0       2022-06-11 00  \n",
              "1       2022-06-11 01  \n",
              "2       2022-06-11 02  \n",
              "3       2022-06-11 03  \n",
              "4       2022-06-11 04  \n",
              "...               ...  \n",
              "289291  2022-08-31 19  \n",
              "289292  2022-08-31 20  \n",
              "289293  2022-08-31 21  \n",
              "289294  2022-08-31 22  \n",
              "289295  2022-08-31 23  \n",
              "\n",
              "[289296 rows x 6 columns]"
            ],
            "text/html": [
              "\n",
              "  <div id=\"df-92ae7476-729d-4295-8dfc-8dc955257174\">\n",
              "    <div class=\"colab-df-container\">\n",
              "      <div>\n",
              "<style scoped>\n",
              "    .dataframe tbody tr th:only-of-type {\n",
              "        vertical-align: middle;\n",
              "    }\n",
              "\n",
              "    .dataframe tbody tr th {\n",
              "        vertical-align: top;\n",
              "    }\n",
              "\n",
              "    .dataframe thead th {\n",
              "        text-align: right;\n",
              "    }\n",
              "</style>\n",
              "<table border=\"1\" class=\"dataframe\">\n",
              "  <thead>\n",
              "    <tr style=\"text-align: right;\">\n",
              "      <th></th>\n",
              "      <th>latitude_start_r</th>\n",
              "      <th>longitude_start_r</th>\n",
              "      <th>hour</th>\n",
              "      <th>date</th>\n",
              "      <th>exist_trip</th>\n",
              "      <th>datetime</th>\n",
              "    </tr>\n",
              "  </thead>\n",
              "  <tbody>\n",
              "    <tr>\n",
              "      <th>0</th>\n",
              "      <td>40.43</td>\n",
              "      <td>-3.70</td>\n",
              "      <td>0</td>\n",
              "      <td>2022-06-11</td>\n",
              "      <td>False</td>\n",
              "      <td>2022-06-11 00</td>\n",
              "    </tr>\n",
              "    <tr>\n",
              "      <th>1</th>\n",
              "      <td>40.43</td>\n",
              "      <td>-3.70</td>\n",
              "      <td>1</td>\n",
              "      <td>2022-06-11</td>\n",
              "      <td>False</td>\n",
              "      <td>2022-06-11 01</td>\n",
              "    </tr>\n",
              "    <tr>\n",
              "      <th>2</th>\n",
              "      <td>40.43</td>\n",
              "      <td>-3.70</td>\n",
              "      <td>2</td>\n",
              "      <td>2022-06-11</td>\n",
              "      <td>False</td>\n",
              "      <td>2022-06-11 02</td>\n",
              "    </tr>\n",
              "    <tr>\n",
              "      <th>3</th>\n",
              "      <td>40.43</td>\n",
              "      <td>-3.70</td>\n",
              "      <td>3</td>\n",
              "      <td>2022-06-11</td>\n",
              "      <td>False</td>\n",
              "      <td>2022-06-11 03</td>\n",
              "    </tr>\n",
              "    <tr>\n",
              "      <th>4</th>\n",
              "      <td>40.43</td>\n",
              "      <td>-3.70</td>\n",
              "      <td>4</td>\n",
              "      <td>2022-06-11</td>\n",
              "      <td>False</td>\n",
              "      <td>2022-06-11 04</td>\n",
              "    </tr>\n",
              "    <tr>\n",
              "      <th>...</th>\n",
              "      <td>...</td>\n",
              "      <td>...</td>\n",
              "      <td>...</td>\n",
              "      <td>...</td>\n",
              "      <td>...</td>\n",
              "      <td>...</td>\n",
              "    </tr>\n",
              "    <tr>\n",
              "      <th>289291</th>\n",
              "      <td>40.49</td>\n",
              "      <td>-3.68</td>\n",
              "      <td>19</td>\n",
              "      <td>2022-08-31</td>\n",
              "      <td>False</td>\n",
              "      <td>2022-08-31 19</td>\n",
              "    </tr>\n",
              "    <tr>\n",
              "      <th>289292</th>\n",
              "      <td>40.49</td>\n",
              "      <td>-3.68</td>\n",
              "      <td>20</td>\n",
              "      <td>2022-08-31</td>\n",
              "      <td>False</td>\n",
              "      <td>2022-08-31 20</td>\n",
              "    </tr>\n",
              "    <tr>\n",
              "      <th>289293</th>\n",
              "      <td>40.49</td>\n",
              "      <td>-3.68</td>\n",
              "      <td>21</td>\n",
              "      <td>2022-08-31</td>\n",
              "      <td>False</td>\n",
              "      <td>2022-08-31 21</td>\n",
              "    </tr>\n",
              "    <tr>\n",
              "      <th>289294</th>\n",
              "      <td>40.49</td>\n",
              "      <td>-3.68</td>\n",
              "      <td>22</td>\n",
              "      <td>2022-08-31</td>\n",
              "      <td>False</td>\n",
              "      <td>2022-08-31 22</td>\n",
              "    </tr>\n",
              "    <tr>\n",
              "      <th>289295</th>\n",
              "      <td>40.49</td>\n",
              "      <td>-3.68</td>\n",
              "      <td>23</td>\n",
              "      <td>2022-08-31</td>\n",
              "      <td>False</td>\n",
              "      <td>2022-08-31 23</td>\n",
              "    </tr>\n",
              "  </tbody>\n",
              "</table>\n",
              "<p>289296 rows × 6 columns</p>\n",
              "</div>\n",
              "      <button class=\"colab-df-convert\" onclick=\"convertToInteractive('df-92ae7476-729d-4295-8dfc-8dc955257174')\"\n",
              "              title=\"Convert this dataframe to an interactive table.\"\n",
              "              style=\"display:none;\">\n",
              "        \n",
              "  <svg xmlns=\"http://www.w3.org/2000/svg\" height=\"24px\"viewBox=\"0 0 24 24\"\n",
              "       width=\"24px\">\n",
              "    <path d=\"M0 0h24v24H0V0z\" fill=\"none\"/>\n",
              "    <path d=\"M18.56 5.44l.94 2.06.94-2.06 2.06-.94-2.06-.94-.94-2.06-.94 2.06-2.06.94zm-11 1L8.5 8.5l.94-2.06 2.06-.94-2.06-.94L8.5 2.5l-.94 2.06-2.06.94zm10 10l.94 2.06.94-2.06 2.06-.94-2.06-.94-.94-2.06-.94 2.06-2.06.94z\"/><path d=\"M17.41 7.96l-1.37-1.37c-.4-.4-.92-.59-1.43-.59-.52 0-1.04.2-1.43.59L10.3 9.45l-7.72 7.72c-.78.78-.78 2.05 0 2.83L4 21.41c.39.39.9.59 1.41.59.51 0 1.02-.2 1.41-.59l7.78-7.78 2.81-2.81c.8-.78.8-2.07 0-2.86zM5.41 20L4 18.59l7.72-7.72 1.47 1.35L5.41 20z\"/>\n",
              "  </svg>\n",
              "      </button>\n",
              "      \n",
              "  <style>\n",
              "    .colab-df-container {\n",
              "      display:flex;\n",
              "      flex-wrap:wrap;\n",
              "      gap: 12px;\n",
              "    }\n",
              "\n",
              "    .colab-df-convert {\n",
              "      background-color: #E8F0FE;\n",
              "      border: none;\n",
              "      border-radius: 50%;\n",
              "      cursor: pointer;\n",
              "      display: none;\n",
              "      fill: #1967D2;\n",
              "      height: 32px;\n",
              "      padding: 0 0 0 0;\n",
              "      width: 32px;\n",
              "    }\n",
              "\n",
              "    .colab-df-convert:hover {\n",
              "      background-color: #E2EBFA;\n",
              "      box-shadow: 0px 1px 2px rgba(60, 64, 67, 0.3), 0px 1px 3px 1px rgba(60, 64, 67, 0.15);\n",
              "      fill: #174EA6;\n",
              "    }\n",
              "\n",
              "    [theme=dark] .colab-df-convert {\n",
              "      background-color: #3B4455;\n",
              "      fill: #D2E3FC;\n",
              "    }\n",
              "\n",
              "    [theme=dark] .colab-df-convert:hover {\n",
              "      background-color: #434B5C;\n",
              "      box-shadow: 0px 1px 3px 1px rgba(0, 0, 0, 0.15);\n",
              "      filter: drop-shadow(0px 1px 2px rgba(0, 0, 0, 0.3));\n",
              "      fill: #FFFFFF;\n",
              "    }\n",
              "  </style>\n",
              "\n",
              "      <script>\n",
              "        const buttonEl =\n",
              "          document.querySelector('#df-92ae7476-729d-4295-8dfc-8dc955257174 button.colab-df-convert');\n",
              "        buttonEl.style.display =\n",
              "          google.colab.kernel.accessAllowed ? 'block' : 'none';\n",
              "\n",
              "        async function convertToInteractive(key) {\n",
              "          const element = document.querySelector('#df-92ae7476-729d-4295-8dfc-8dc955257174');\n",
              "          const dataTable =\n",
              "            await google.colab.kernel.invokeFunction('convertToInteractive',\n",
              "                                                     [key], {});\n",
              "          if (!dataTable) return;\n",
              "\n",
              "          const docLinkHtml = 'Like what you see? Visit the ' +\n",
              "            '<a target=\"_blank\" href=https://colab.research.google.com/notebooks/data_table.ipynb>data table notebook</a>'\n",
              "            + ' to learn more about interactive tables.';\n",
              "          element.innerHTML = '';\n",
              "          dataTable['output_type'] = 'display_data';\n",
              "          await google.colab.output.renderOutput(dataTable, element);\n",
              "          const docLink = document.createElement('div');\n",
              "          docLink.innerHTML = docLinkHtml;\n",
              "          element.appendChild(docLink);\n",
              "        }\n",
              "      </script>\n",
              "    </div>\n",
              "  </div>\n",
              "  "
            ]
          },
          "metadata": {},
          "execution_count": 31
        }
      ]
    },
    {
      "cell_type": "code",
      "source": [
        "#Select a interesting point of data\n",
        "df_ts_trendy_true_false =  df_true_false[ (df_true_false.latitude_start_r == 40.44) & (df_true_false.longitude_start_r == -3.68)]\n",
        "df_ts_trendy_true_false"
      ],
      "metadata": {
        "id": "i0X75cSmi2ry",
        "colab": {
          "base_uri": "https://localhost:8080/",
          "height": 423
        },
        "outputId": "784407bf-55b9-41fd-9c39-943955e1013a"
      },
      "execution_count": 32,
      "outputs": [
        {
          "output_type": "execute_result",
          "data": {
            "text/plain": [
              "        latitude_start_r  longitude_start_r  hour       date  exist_trip  \\\n",
              "116112             40.44              -3.68     0 2022-06-11       False   \n",
              "116113             40.44              -3.68     1 2022-06-11       False   \n",
              "116114             40.44              -3.68     2 2022-06-11       False   \n",
              "116115             40.44              -3.68     3 2022-06-11       False   \n",
              "116116             40.44              -3.68     4 2022-06-11       False   \n",
              "...                  ...                ...   ...        ...         ...   \n",
              "118075             40.44              -3.68    19 2022-08-31       False   \n",
              "118076             40.44              -3.68    20 2022-08-31       False   \n",
              "118077             40.44              -3.68    21 2022-08-31       False   \n",
              "118078             40.44              -3.68    22 2022-08-31       False   \n",
              "118079             40.44              -3.68    23 2022-08-31       False   \n",
              "\n",
              "             datetime  \n",
              "116112  2022-06-11 00  \n",
              "116113  2022-06-11 01  \n",
              "116114  2022-06-11 02  \n",
              "116115  2022-06-11 03  \n",
              "116116  2022-06-11 04  \n",
              "...               ...  \n",
              "118075  2022-08-31 19  \n",
              "118076  2022-08-31 20  \n",
              "118077  2022-08-31 21  \n",
              "118078  2022-08-31 22  \n",
              "118079  2022-08-31 23  \n",
              "\n",
              "[1968 rows x 6 columns]"
            ],
            "text/html": [
              "\n",
              "  <div id=\"df-da691e81-816b-49d6-b4cf-4ca933103e6e\">\n",
              "    <div class=\"colab-df-container\">\n",
              "      <div>\n",
              "<style scoped>\n",
              "    .dataframe tbody tr th:only-of-type {\n",
              "        vertical-align: middle;\n",
              "    }\n",
              "\n",
              "    .dataframe tbody tr th {\n",
              "        vertical-align: top;\n",
              "    }\n",
              "\n",
              "    .dataframe thead th {\n",
              "        text-align: right;\n",
              "    }\n",
              "</style>\n",
              "<table border=\"1\" class=\"dataframe\">\n",
              "  <thead>\n",
              "    <tr style=\"text-align: right;\">\n",
              "      <th></th>\n",
              "      <th>latitude_start_r</th>\n",
              "      <th>longitude_start_r</th>\n",
              "      <th>hour</th>\n",
              "      <th>date</th>\n",
              "      <th>exist_trip</th>\n",
              "      <th>datetime</th>\n",
              "    </tr>\n",
              "  </thead>\n",
              "  <tbody>\n",
              "    <tr>\n",
              "      <th>116112</th>\n",
              "      <td>40.44</td>\n",
              "      <td>-3.68</td>\n",
              "      <td>0</td>\n",
              "      <td>2022-06-11</td>\n",
              "      <td>False</td>\n",
              "      <td>2022-06-11 00</td>\n",
              "    </tr>\n",
              "    <tr>\n",
              "      <th>116113</th>\n",
              "      <td>40.44</td>\n",
              "      <td>-3.68</td>\n",
              "      <td>1</td>\n",
              "      <td>2022-06-11</td>\n",
              "      <td>False</td>\n",
              "      <td>2022-06-11 01</td>\n",
              "    </tr>\n",
              "    <tr>\n",
              "      <th>116114</th>\n",
              "      <td>40.44</td>\n",
              "      <td>-3.68</td>\n",
              "      <td>2</td>\n",
              "      <td>2022-06-11</td>\n",
              "      <td>False</td>\n",
              "      <td>2022-06-11 02</td>\n",
              "    </tr>\n",
              "    <tr>\n",
              "      <th>116115</th>\n",
              "      <td>40.44</td>\n",
              "      <td>-3.68</td>\n",
              "      <td>3</td>\n",
              "      <td>2022-06-11</td>\n",
              "      <td>False</td>\n",
              "      <td>2022-06-11 03</td>\n",
              "    </tr>\n",
              "    <tr>\n",
              "      <th>116116</th>\n",
              "      <td>40.44</td>\n",
              "      <td>-3.68</td>\n",
              "      <td>4</td>\n",
              "      <td>2022-06-11</td>\n",
              "      <td>False</td>\n",
              "      <td>2022-06-11 04</td>\n",
              "    </tr>\n",
              "    <tr>\n",
              "      <th>...</th>\n",
              "      <td>...</td>\n",
              "      <td>...</td>\n",
              "      <td>...</td>\n",
              "      <td>...</td>\n",
              "      <td>...</td>\n",
              "      <td>...</td>\n",
              "    </tr>\n",
              "    <tr>\n",
              "      <th>118075</th>\n",
              "      <td>40.44</td>\n",
              "      <td>-3.68</td>\n",
              "      <td>19</td>\n",
              "      <td>2022-08-31</td>\n",
              "      <td>False</td>\n",
              "      <td>2022-08-31 19</td>\n",
              "    </tr>\n",
              "    <tr>\n",
              "      <th>118076</th>\n",
              "      <td>40.44</td>\n",
              "      <td>-3.68</td>\n",
              "      <td>20</td>\n",
              "      <td>2022-08-31</td>\n",
              "      <td>False</td>\n",
              "      <td>2022-08-31 20</td>\n",
              "    </tr>\n",
              "    <tr>\n",
              "      <th>118077</th>\n",
              "      <td>40.44</td>\n",
              "      <td>-3.68</td>\n",
              "      <td>21</td>\n",
              "      <td>2022-08-31</td>\n",
              "      <td>False</td>\n",
              "      <td>2022-08-31 21</td>\n",
              "    </tr>\n",
              "    <tr>\n",
              "      <th>118078</th>\n",
              "      <td>40.44</td>\n",
              "      <td>-3.68</td>\n",
              "      <td>22</td>\n",
              "      <td>2022-08-31</td>\n",
              "      <td>False</td>\n",
              "      <td>2022-08-31 22</td>\n",
              "    </tr>\n",
              "    <tr>\n",
              "      <th>118079</th>\n",
              "      <td>40.44</td>\n",
              "      <td>-3.68</td>\n",
              "      <td>23</td>\n",
              "      <td>2022-08-31</td>\n",
              "      <td>False</td>\n",
              "      <td>2022-08-31 23</td>\n",
              "    </tr>\n",
              "  </tbody>\n",
              "</table>\n",
              "<p>1968 rows × 6 columns</p>\n",
              "</div>\n",
              "      <button class=\"colab-df-convert\" onclick=\"convertToInteractive('df-da691e81-816b-49d6-b4cf-4ca933103e6e')\"\n",
              "              title=\"Convert this dataframe to an interactive table.\"\n",
              "              style=\"display:none;\">\n",
              "        \n",
              "  <svg xmlns=\"http://www.w3.org/2000/svg\" height=\"24px\"viewBox=\"0 0 24 24\"\n",
              "       width=\"24px\">\n",
              "    <path d=\"M0 0h24v24H0V0z\" fill=\"none\"/>\n",
              "    <path d=\"M18.56 5.44l.94 2.06.94-2.06 2.06-.94-2.06-.94-.94-2.06-.94 2.06-2.06.94zm-11 1L8.5 8.5l.94-2.06 2.06-.94-2.06-.94L8.5 2.5l-.94 2.06-2.06.94zm10 10l.94 2.06.94-2.06 2.06-.94-2.06-.94-.94-2.06-.94 2.06-2.06.94z\"/><path d=\"M17.41 7.96l-1.37-1.37c-.4-.4-.92-.59-1.43-.59-.52 0-1.04.2-1.43.59L10.3 9.45l-7.72 7.72c-.78.78-.78 2.05 0 2.83L4 21.41c.39.39.9.59 1.41.59.51 0 1.02-.2 1.41-.59l7.78-7.78 2.81-2.81c.8-.78.8-2.07 0-2.86zM5.41 20L4 18.59l7.72-7.72 1.47 1.35L5.41 20z\"/>\n",
              "  </svg>\n",
              "      </button>\n",
              "      \n",
              "  <style>\n",
              "    .colab-df-container {\n",
              "      display:flex;\n",
              "      flex-wrap:wrap;\n",
              "      gap: 12px;\n",
              "    }\n",
              "\n",
              "    .colab-df-convert {\n",
              "      background-color: #E8F0FE;\n",
              "      border: none;\n",
              "      border-radius: 50%;\n",
              "      cursor: pointer;\n",
              "      display: none;\n",
              "      fill: #1967D2;\n",
              "      height: 32px;\n",
              "      padding: 0 0 0 0;\n",
              "      width: 32px;\n",
              "    }\n",
              "\n",
              "    .colab-df-convert:hover {\n",
              "      background-color: #E2EBFA;\n",
              "      box-shadow: 0px 1px 2px rgba(60, 64, 67, 0.3), 0px 1px 3px 1px rgba(60, 64, 67, 0.15);\n",
              "      fill: #174EA6;\n",
              "    }\n",
              "\n",
              "    [theme=dark] .colab-df-convert {\n",
              "      background-color: #3B4455;\n",
              "      fill: #D2E3FC;\n",
              "    }\n",
              "\n",
              "    [theme=dark] .colab-df-convert:hover {\n",
              "      background-color: #434B5C;\n",
              "      box-shadow: 0px 1px 3px 1px rgba(0, 0, 0, 0.15);\n",
              "      filter: drop-shadow(0px 1px 2px rgba(0, 0, 0, 0.3));\n",
              "      fill: #FFFFFF;\n",
              "    }\n",
              "  </style>\n",
              "\n",
              "      <script>\n",
              "        const buttonEl =\n",
              "          document.querySelector('#df-da691e81-816b-49d6-b4cf-4ca933103e6e button.colab-df-convert');\n",
              "        buttonEl.style.display =\n",
              "          google.colab.kernel.accessAllowed ? 'block' : 'none';\n",
              "\n",
              "        async function convertToInteractive(key) {\n",
              "          const element = document.querySelector('#df-da691e81-816b-49d6-b4cf-4ca933103e6e');\n",
              "          const dataTable =\n",
              "            await google.colab.kernel.invokeFunction('convertToInteractive',\n",
              "                                                     [key], {});\n",
              "          if (!dataTable) return;\n",
              "\n",
              "          const docLinkHtml = 'Like what you see? Visit the ' +\n",
              "            '<a target=\"_blank\" href=https://colab.research.google.com/notebooks/data_table.ipynb>data table notebook</a>'\n",
              "            + ' to learn more about interactive tables.';\n",
              "          element.innerHTML = '';\n",
              "          dataTable['output_type'] = 'display_data';\n",
              "          await google.colab.output.renderOutput(dataTable, element);\n",
              "          const docLink = document.createElement('div');\n",
              "          docLink.innerHTML = docLinkHtml;\n",
              "          element.appendChild(docLink);\n",
              "        }\n",
              "      </script>\n",
              "    </div>\n",
              "  </div>\n",
              "  "
            ]
          },
          "metadata": {},
          "execution_count": 32
        }
      ]
    },
    {
      "cell_type": "code",
      "source": [
        "#Set the column datetime as index and sort the dataset by datetime ascendent\n",
        "df_ts_trendy_true_false.set_index('datetime', inplace=True)\n",
        "df_ts_trendy_true_false.sort_index(inplace=True)"
      ],
      "metadata": {
        "id": "LCoqZhvWfKX2"
      },
      "execution_count": 33,
      "outputs": []
    },
    {
      "cell_type": "code",
      "source": [
        "fig, ax = plt.subplots(figsize=(10, 3))\n",
        "plot_acf(df_ts_trendy_true_false.exist_trip, ax=ax, lags=7*24)\n",
        "plt.show()"
      ],
      "metadata": {
        "colab": {
          "base_uri": "https://localhost:8080/",
          "height": 227
        },
        "id": "ffT0SB_xipRj",
        "outputId": "7b03f575-219f-439b-8149-ab6c477f1af8"
      },
      "execution_count": 34,
      "outputs": [
        {
          "output_type": "display_data",
          "data": {
            "text/plain": [
              "<Figure size 720x216 with 1 Axes>"
            ],
            "image/png": "[encoded data removed]"
          },
          "metadata": {
            "needs_background": "light"
          }
        }
      ]
    },
    {
      "cell_type": "code",
      "source": [
        "fig, ax = plt.subplots(figsize=(20, 3))\n",
        "plot_pacf(df_ts_trendy_true_false.exist_trip, ax=ax, lags=7*24)\n",
        "plt.show()"
      ],
      "metadata": {
        "id": "oBu1G3YbiqrH",
        "colab": {
          "base_uri": "https://localhost:8080/",
          "height": 227
        },
        "outputId": "6a8235d1-540f-4a1a-82d9-b1234cb1c9e3"
      },
      "execution_count": 35,
      "outputs": [
        {
          "output_type": "display_data",
          "data": {
            "text/plain": [
              "<Figure size 1440x216 with 1 Axes>"
            ],
            "image/png": "[encoded data removed]"
          },
          "metadata": {
            "needs_background": "light"
          }
        }
      ]
    },
    {
      "cell_type": "markdown",
      "source": [
        "# Adfuller test"
      ],
      "metadata": {
        "id": "9r1uypzL7S67"
      }
    },
    {
      "cell_type": "code",
      "source": [
        "from statsmodels.tsa.stattools import adfuller\n",
        "\n",
        "results = adfuller(df_ts_trendy['trips'])\n",
        "results"
      ],
      "metadata": {
        "colab": {
          "base_uri": "https://localhost:8080/"
        },
        "id": "YNW6dw8H7UtK",
        "outputId": "9e7f8756-e8bb-4aaa-ca04-c0505768f286"
      },
      "execution_count": 36,
      "outputs": [
        {
          "output_type": "execute_result",
          "data": {
            "text/plain": [
              "(-5.425759777896332,\n",
              " 2.9898063506360312e-06,\n",
              " 24,\n",
              " 1943,\n",
              " {'1%': -3.433720025866274,\n",
              "  '5%': -2.863028672007412,\n",
              "  '10%': -2.567562509368256},\n",
              " 5925.911012749962)"
            ]
          },
          "metadata": {},
          "execution_count": 36
        }
      ]
    },
    {
      "cell_type": "markdown",
      "source": [
        "Adfuller tells:\n",
        "- Frist number (-4.68) --> More negative means more likely to be stationary\n",
        "- P-value (9.13e-05) --> If smaller than 0.05 we reject the null hypothesis and assume that must by stationary\n",
        "- Critical values of the test statistic wich equate to different p-values\n",
        "- This should be below -2.91\n",
        "\n"
      ],
      "metadata": {
        "id": "Xh2lQYun78KA"
      }
    }
  ]
}
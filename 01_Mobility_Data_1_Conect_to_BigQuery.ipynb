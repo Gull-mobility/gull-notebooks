{
  "nbformat": 4,
  "nbformat_minor": 0,
  "metadata": {
    "colab": {
      "name": "01 - Mobility - Data 1 - Conect to BigQuery",
      "provenance": []
    },
    "kernelspec": {
      "name": "python3",
      "display_name": "Python 3"
    },
    "language_info": {
      "name": "python"
    }
  },
  "cells": [
    {
      "cell_type": "markdown",
      "source": [
        "# Guide\n",
        "This notebook is just to check the conexion between Colab and BigQuery\n",
        "\n",
        "# Preconfiguration\n",
        "To execute - First create a service account and save in Google Drive, after change next data"
      ],
      "metadata": {
        "id": "Z7qe9yECv1AR"
      }
    },
    {
      "cell_type": "code",
      "source": [
        "#Modify after MyDrive providing folders and file name\n",
        "service_account_location = \"drive/MyDrive/Ideas/movilidad/vacio-276411-service_account_for_colab.json\""
      ],
      "metadata": {
        "id": "Ea3to_EvyyuZ"
      },
      "execution_count": null,
      "outputs": []
    },
    {
      "cell_type": "markdown",
      "source": [
        "# Imports"
      ],
      "metadata": {
        "id": "mQZYyFgrv9lk"
      }
    },
    {
      "cell_type": "code",
      "execution_count": null,
      "metadata": {
        "colab": {
          "base_uri": "https://localhost:8080/"
        },
        "id": "Tx6LTeJb9zUR",
        "outputId": "baa56ab8-f661-4e68-d7a9-bb1c77382668"
      },
      "outputs": [
        {
          "output_type": "stream",
          "name": "stdout",
          "text": [
            "Mounted at /content/drive\n"
          ]
        }
      ],
      "source": [
        "#BIGQUERY IMPORTS\n",
        "from google.cloud import bigquery #For bigquerycredentials\n",
        "from google.oauth2 import service_account #For credentials\n",
        "\n",
        "\n",
        "##Mount access to Drive\n",
        "from google.colab import drive\n",
        "drive.mount('/content/drive',force_remount=True)\n",
        "\n",
        "#Set credentials as global\n",
        "import os\n",
        "os.environ[\"GOOGLE_APPLICATION_CREDENTIALS\"]=service_account_location\n",
        "\n",
        "# Construct a BigQuery client object.\n",
        "client = bigquery.Client()"
      ]
    },
    {
      "cell_type": "markdown",
      "source": [
        "# Execution"
      ],
      "metadata": {
        "id": "tFoW8dpAzFO-"
      }
    },
    {
      "cell_type": "code",
      "source": [
        "query = \"\"\"\n",
        "    SELECT * FROM `vacio-276411.mainDataset.V1_model_data_cluster_hour_total_trips_initiated`\n",
        "\"\"\"\n",
        "df = client.query(query).to_dataframe()"
      ],
      "metadata": {
        "id": "5yXmN8d9B4h-"
      },
      "execution_count": null,
      "outputs": []
    },
    {
      "cell_type": "code",
      "source": [
        "df"
      ],
      "metadata": {
        "colab": {
          "base_uri": "https://localhost:8080/",
          "height": 423
        },
        "id": "gCtXMh70CHvk",
        "outputId": "9619c0ae-fbb2-4866-b25c-cb36101fc96f"
      },
      "execution_count": null,
      "outputs": [
        {
          "output_type": "execute_result",
          "data": {
            "text/plain": [
              "       clusterLatitude_start clusterLongitude_start  hour_start  trips\n",
              "0                     40.485                 -3.715           0      1\n",
              "1                     40.452                 -3.706           0      1\n",
              "2                     40.422                 -3.686           0      1\n",
              "3                     40.442                 -3.716           0      1\n",
              "4                     40.442                 -3.676           0      2\n",
              "...                      ...                    ...         ...    ...\n",
              "709134                40.432                 -3.706          23      2\n",
              "709135                40.472                 -3.676          23      1\n",
              "709136                40.432                 -3.706          23      2\n",
              "709137                40.442                 -3.696          23     16\n",
              "709138                40.432                 -3.686          23      1\n",
              "\n",
              "[709139 rows x 4 columns]"
            ],
            "text/html": [
              "\n",
              "  <div id=\"df-e07bedd8-100c-4264-b8c7-cdd0e14c43a7\">\n",
              "    <div class=\"colab-df-container\">\n",
              "      <div>\n",
              "<style scoped>\n",
              "    .dataframe tbody tr th:only-of-type {\n",
              "        vertical-align: middle;\n",
              "    }\n",
              "\n",
              "    .dataframe tbody tr th {\n",
              "        vertical-align: top;\n",
              "    }\n",
              "\n",
              "    .dataframe thead th {\n",
              "        text-align: right;\n",
              "    }\n",
              "</style>\n",
              "<table border=\"1\" class=\"dataframe\">\n",
              "  <thead>\n",
              "    <tr style=\"text-align: right;\">\n",
              "      <th></th>\n",
              "      <th>clusterLatitude_start</th>\n",
              "      <th>clusterLongitude_start</th>\n",
              "      <th>hour_start</th>\n",
              "      <th>trips</th>\n",
              "    </tr>\n",
              "  </thead>\n",
              "  <tbody>\n",
              "    <tr>\n",
              "      <th>0</th>\n",
              "      <td>40.485</td>\n",
              "      <td>-3.715</td>\n",
              "      <td>0</td>\n",
              "      <td>1</td>\n",
              "    </tr>\n",
              "    <tr>\n",
              "      <th>1</th>\n",
              "      <td>40.452</td>\n",
              "      <td>-3.706</td>\n",
              "      <td>0</td>\n",
              "      <td>1</td>\n",
              "    </tr>\n",
              "    <tr>\n",
              "      <th>2</th>\n",
              "      <td>40.422</td>\n",
              "      <td>-3.686</td>\n",
              "      <td>0</td>\n",
              "      <td>1</td>\n",
              "    </tr>\n",
              "    <tr>\n",
              "      <th>3</th>\n",
              "      <td>40.442</td>\n",
              "      <td>-3.716</td>\n",
              "      <td>0</td>\n",
              "      <td>1</td>\n",
              "    </tr>\n",
              "    <tr>\n",
              "      <th>4</th>\n",
              "      <td>40.442</td>\n",
              "      <td>-3.676</td>\n",
              "      <td>0</td>\n",
              "      <td>2</td>\n",
              "    </tr>\n",
              "    <tr>\n",
              "      <th>...</th>\n",
              "      <td>...</td>\n",
              "      <td>...</td>\n",
              "      <td>...</td>\n",
              "      <td>...</td>\n",
              "    </tr>\n",
              "    <tr>\n",
              "      <th>709134</th>\n",
              "      <td>40.432</td>\n",
              "      <td>-3.706</td>\n",
              "      <td>23</td>\n",
              "      <td>2</td>\n",
              "    </tr>\n",
              "    <tr>\n",
              "      <th>709135</th>\n",
              "      <td>40.472</td>\n",
              "      <td>-3.676</td>\n",
              "      <td>23</td>\n",
              "      <td>1</td>\n",
              "    </tr>\n",
              "    <tr>\n",
              "      <th>709136</th>\n",
              "      <td>40.432</td>\n",
              "      <td>-3.706</td>\n",
              "      <td>23</td>\n",
              "      <td>2</td>\n",
              "    </tr>\n",
              "    <tr>\n",
              "      <th>709137</th>\n",
              "      <td>40.442</td>\n",
              "      <td>-3.696</td>\n",
              "      <td>23</td>\n",
              "      <td>16</td>\n",
              "    </tr>\n",
              "    <tr>\n",
              "      <th>709138</th>\n",
              "      <td>40.432</td>\n",
              "      <td>-3.686</td>\n",
              "      <td>23</td>\n",
              "      <td>1</td>\n",
              "    </tr>\n",
              "  </tbody>\n",
              "</table>\n",
              "<p>709139 rows × 4 columns</p>\n",
              "</div>\n",
              "      <button class=\"colab-df-convert\" onclick=\"convertToInteractive('df-e07bedd8-100c-4264-b8c7-cdd0e14c43a7')\"\n",
              "              title=\"Convert this dataframe to an interactive table.\"\n",
              "              style=\"display:none;\">\n",
              "        \n",
              "  <svg xmlns=\"http://www.w3.org/2000/svg\" height=\"24px\"viewBox=\"0 0 24 24\"\n",
              "       width=\"24px\">\n",
              "    <path d=\"M0 0h24v24H0V0z\" fill=\"none\"/>\n",
              "    <path d=\"M18.56 5.44l.94 2.06.94-2.06 2.06-.94-2.06-.94-.94-2.06-.94 2.06-2.06.94zm-11 1L8.5 8.5l.94-2.06 2.06-.94-2.06-.94L8.5 2.5l-.94 2.06-2.06.94zm10 10l.94 2.06.94-2.06 2.06-.94-2.06-.94-.94-2.06-.94 2.06-2.06.94z\"/><path d=\"M17.41 7.96l-1.37-1.37c-.4-.4-.92-.59-1.43-.59-.52 0-1.04.2-1.43.59L10.3 9.45l-7.72 7.72c-.78.78-.78 2.05 0 2.83L4 21.41c.39.39.9.59 1.41.59.51 0 1.02-.2 1.41-.59l7.78-7.78 2.81-2.81c.8-.78.8-2.07 0-2.86zM5.41 20L4 18.59l7.72-7.72 1.47 1.35L5.41 20z\"/>\n",
              "  </svg>\n",
              "      </button>\n",
              "      \n",
              "  <style>\n",
              "    .colab-df-container {\n",
              "      display:flex;\n",
              "      flex-wrap:wrap;\n",
              "      gap: 12px;\n",
              "    }\n",
              "\n",
              "    .colab-df-convert {\n",
              "      background-color: #E8F0FE;\n",
              "      border: none;\n",
              "      border-radius: 50%;\n",
              "      cursor: pointer;\n",
              "      display: none;\n",
              "      fill: #1967D2;\n",
              "      height: 32px;\n",
              "      padding: 0 0 0 0;\n",
              "      width: 32px;\n",
              "    }\n",
              "\n",
              "    .colab-df-convert:hover {\n",
              "      background-color: #E2EBFA;\n",
              "      box-shadow: 0px 1px 2px rgba(60, 64, 67, 0.3), 0px 1px 3px 1px rgba(60, 64, 67, 0.15);\n",
              "      fill: #174EA6;\n",
              "    }\n",
              "\n",
              "    [theme=dark] .colab-df-convert {\n",
              "      background-color: #3B4455;\n",
              "      fill: #D2E3FC;\n",
              "    }\n",
              "\n",
              "    [theme=dark] .colab-df-convert:hover {\n",
              "      background-color: #434B5C;\n",
              "      box-shadow: 0px 1px 3px 1px rgba(0, 0, 0, 0.15);\n",
              "      filter: drop-shadow(0px 1px 2px rgba(0, 0, 0, 0.3));\n",
              "      fill: #FFFFFF;\n",
              "    }\n",
              "  </style>\n",
              "\n",
              "      <script>\n",
              "        const buttonEl =\n",
              "          document.querySelector('#df-e07bedd8-100c-4264-b8c7-cdd0e14c43a7 button.colab-df-convert');\n",
              "        buttonEl.style.display =\n",
              "          google.colab.kernel.accessAllowed ? 'block' : 'none';\n",
              "\n",
              "        async function convertToInteractive(key) {\n",
              "          const element = document.querySelector('#df-e07bedd8-100c-4264-b8c7-cdd0e14c43a7');\n",
              "          const dataTable =\n",
              "            await google.colab.kernel.invokeFunction('convertToInteractive',\n",
              "                                                     [key], {});\n",
              "          if (!dataTable) return;\n",
              "\n",
              "          const docLinkHtml = 'Like what you see? Visit the ' +\n",
              "            '<a target=\"_blank\" href=https://colab.research.google.com/notebooks/data_table.ipynb>data table notebook</a>'\n",
              "            + ' to learn more about interactive tables.';\n",
              "          element.innerHTML = '';\n",
              "          dataTable['output_type'] = 'display_data';\n",
              "          await google.colab.output.renderOutput(dataTable, element);\n",
              "          const docLink = document.createElement('div');\n",
              "          docLink.innerHTML = docLinkHtml;\n",
              "          element.appendChild(docLink);\n",
              "        }\n",
              "      </script>\n",
              "    </div>\n",
              "  </div>\n",
              "  "
            ]
          },
          "metadata": {},
          "execution_count": 18
        }
      ]
    },
    {
      "cell_type": "code",
      "source": [
        "latitude_len = len(df['clusterLatitude_start'].unique())\n",
        "longitude_len = len(df['clusterLongitude_start'].unique())\n",
        "hour_start_len = len(df['hour_start'].unique())\n",
        "\n",
        "print('[DIFERENT ITEMS] Latitude: ' + str(latitude_len) + ' Longitude: ' + str(longitude_len) + ' Hours: ' + str(hour_start_len))\n",
        "print('POSIBILITIES: ' + str( latitude_len * latitude_len * hour_start_len ))\n",
        "print('ITEMS PER OPTION: ' + str(len(df)/(latitude_len * longitude_len * hour_start_len)) )"
      ],
      "metadata": {
        "colab": {
          "base_uri": "https://localhost:8080/"
        },
        "id": "ojDEzwEfCh0G",
        "outputId": "602f1a53-d1d5-4aeb-f894-815147a440bf"
      },
      "execution_count": null,
      "outputs": [
        {
          "output_type": "stream",
          "name": "stdout",
          "text": [
            "[DIFERENT ITEMS] Latitude: 42 Longitude: 48 Hours: 24\n",
            "POSIBILITIES: 42336\n",
            "ITEMS PER OPTION: 14.656477347883598\n"
          ]
        }
      ]
    }
  ]
}